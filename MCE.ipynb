{
 "cells": [
  {
   "cell_type": "code",
   "execution_count": 6,
   "id": "86c4d480-2153-4cc4-9985-5fd3baca8449",
   "metadata": {},
   "outputs": [],
   "source": [
    "import numpy as np\n",
    "import scipy.integrate\n",
    "import torch.nn as nn\n",
    "import torch\n",
    "from sklearn.preprocessing import MinMaxScaler\n",
    "import copy\n",
    "\n",
    "from miou.metrics import miou\n",
    "from miou.metrics.iou import IoU\n",
    "from miou.utils.mask_loader import load_mask\n",
    "from miou.utils.segmentation import GridBasedSegmentation\n",
    "from scipy.stats import linregress\n",
    "from miou.edge_detection import sobel\n",
    "from scipy.integrate import trapezoid, simpson\n",
    "import matplotlib.pyplot as plt \n"
   ]
  },
  {
   "cell_type": "code",
   "execution_count": 7,
   "id": "b54a3e55-d50e-42c5-8929-69a6bbef758f",
   "metadata": {
    "editable": true,
    "slideshow": {
     "slide_type": ""
    },
    "tags": []
   },
   "outputs": [],
   "source": [
    "def pre_process_masks(mask1, mask2, scale):  # This is the function s in the paper\n",
    "    preprocessor1 = GridBasedSegmentation(mask1, scale)\n",
    "    s1 = preprocessor1.segmentize()\n",
    "    preprocessor2 = GridBasedSegmentation(mask2, scale)\n",
    "    s2 = preprocessor2.segmentize()\n",
    "\n",
    "    return s1, s2"
   ]
  },
  {
   "cell_type": "code",
   "execution_count": 8,
   "id": "35b07450-7163-4e1b-a6ec-c5784f62b884",
   "metadata": {},
   "outputs": [],
   "source": [
    "def calculate_bce_with_logits(gt, prediction, scale):\n",
    "    loss = nn.BCEWithLogitsLoss()\n",
    "    l = loss(prediction, gt)\n",
    "    return l"
   ]
  },
  {
   "cell_type": "code",
   "execution_count": 9,
   "id": "247a5547-e714-4979-9eb2-acced369f812",
   "metadata": {},
   "outputs": [],
   "source": [
    "def calculate_bce(gt, prediction, scale):\n",
    "    loss = nn.BCELoss()\n",
    "    l = loss(prediction, gt)\n",
    "    return l"
   ]
  },
  {
   "cell_type": "code",
   "execution_count": 10,
   "id": "96859c43-af2a-4c18-8dff-6383ea5eff49",
   "metadata": {},
   "outputs": [],
   "source": [
    "def calculate_area(distances, scales):\n",
    "    b = copy.deepcopy(scales).reshape((-1, 1))\n",
    "    normalized_scales = MinMaxScaler().fit_transform(b)\n",
    "    normalized_scales = normalized_scales.reshape(-1)\n",
    "    area = simpson(distances, normalized_scales)\n",
    "    return area"
   ]
  },
  {
   "cell_type": "code",
   "execution_count": 11,
   "id": "a7814e7e-45f9-422e-a63b-c50b15304e7a",
   "metadata": {},
   "outputs": [],
   "source": [
    "def normalize_distance(distance):\n",
    "    l = torch.exp(-distance)\n",
    "    return l"
   ]
  },
  {
   "cell_type": "code",
   "execution_count": 12,
   "id": "959c4f8a-193f-4ca6-a27c-92b50ac5982b",
   "metadata": {},
   "outputs": [],
   "source": [
    "gt = load_mask(\"./test_images/test_segm_input_B/mask1.png\")\n",
    "img2 = load_mask(\"./test_images/test_segm_input_B/mask2.png\")\n",
    "img3 = load_mask(\"./test_images/test_segm_input_B/mask3.png\")\n",
    "# img2 = load_mask(\"./test_images/test_segm_input_B/mask1.png\")\n",
    "masks = [gt, img2, img3]"
   ]
  },
  {
   "cell_type": "code",
   "execution_count": 13,
   "id": "45a18319-82eb-4af6-93e2-0328ca2a9ff4",
   "metadata": {},
   "outputs": [
    {
     "data": {
      "image/png": "[encoded data removed]",
      "text/plain": [
       "<Figure size 1500x4500 with 3 Axes>"
      ]
     },
     "metadata": {},
     "output_type": "display_data"
    }
   ],
   "source": [
    "fig = plt.figure(figsize=(15, len(masks) * 15))\n",
    "all_axes = []\n",
    "j = 0\n",
    "for i in range(len(masks)):\n",
    "    all_axes.append(fig.add_subplot(1,4,i+1))\n",
    "\n",
    "for ax in all_axes:\n",
    "    ax.axis('off')\n",
    "    title = 'Mask{}'.format(j+1) if j!=0 else 'Mask{}: Reference'.format(j+1)\n",
    "    ax.set_title(title)\n",
    "    ax.imshow(masks[j], cmap='gist_gray')\n",
    "    j = j + 1\n",
    "\n",
    "plt.show()"
   ]
  },
  {
   "cell_type": "code",
   "execution_count": 14,
   "id": "dc95e8b2-faa7-486a-962a-6d50cba31a85",
   "metadata": {},
   "outputs": [],
   "source": [
    "scales = np.power(2, np.linspace(0, 9, num=10, dtype=int))"
   ]
  },
  {
   "cell_type": "code",
   "execution_count": 15,
   "id": "ff6b5941-7246-46e7-86bd-3f4e4cffa690",
   "metadata": {},
   "outputs": [],
   "source": [
    "def MCE(gt, img2, detect_edges = True):\n",
    "\n",
    "    distances = []\n",
    "    box_counting_m1 = []\n",
    "    box_counting_m2 = []\n",
    "    box_counting_distance = []\n",
    "    \n",
    "    if detect_edges:\n",
    "        gt = sobel.get_edges(gt)\n",
    "        img2 = sobel.get_edges(img2)\n",
    "        \n",
    "    for scale in scales:\n",
    "        s_gt, s_img2 = pre_process_masks(gt, img2, scale)\n",
    "        # distance = calculate_ce(torch.from_numpy(s_gt.astype(float)), torch.from_numpy(s_img2.astype(float)), scale)\n",
    "        # distance = calculate_ce(\n",
    "        #     torch.tensor(box_counting_m1[-1], dtype=torch.float),\n",
    "        #     torch.tensor(box_counting_m2[-1], dtype=torch.float),\n",
    "        #     scale)\n",
    "        # distance = calculate_bce_with_logits(\n",
    "        #     torch.tensor(s_gt, dtype=torch.float),\n",
    "        #     torch.tensor(s_img2, dtype=torch.float),\n",
    "        #     scale)\n",
    "        distance = calculate_bce(\n",
    "            torch.tensor(s_gt, dtype=torch.float),\n",
    "            torch.tensor(s_img2, dtype=torch.float),\n",
    "            scale)\n",
    "        print(f\"distance: {distance}\")\n",
    "        distance = normalize_distance(distance)\n",
    "        distances.append(distance)\n",
    "\n",
    "    print(f\"distances: {distances}\")\n",
    "    mce = calculate_area(distances, scales)\n",
    "    \n",
    "    print(f\"mce: {mce}\")\n",
    "    return mce\n",
    "\n"
   ]
  },
  {
   "cell_type": "code",
   "execution_count": 16,
   "id": "72da49d0-c73e-40e0-9706-73b5f8041fa3",
   "metadata": {},
   "outputs": [
    {
     "name": "stdout",
     "output_type": "stream",
     "text": [
      "distance: 1.40838623046875\n",
      "distance: 2.34832763671875\n",
      "distance: 4.23583984375\n",
      "distance: 7.275390625\n",
      "distance: 9.66796875\n",
      "distance: 12.5\n",
      "distance: 15.625\n",
      "distance: 0.0\n",
      "distance: 0.0\n",
      "distance: 0.0\n",
      "distances: [tensor(0.2445), tensor(0.0955), tensor(0.0145), tensor(0.0007), tensor(6.3278e-05), tensor(3.7267e-06), tensor(1.6374e-07), tensor(1.), tensor(1.), tensor(1.)]\n",
      "mce: 0.8771670211379198\n"
     ]
    },
    {
     "name": "stderr",
     "output_type": "stream",
     "text": [
      "/tmp/ipykernel_21951/3604676800.py:5: DeprecationWarning: You are passing x=[0.         0.00195695 0.00587084 0.01369863 0.02935421 0.06066536\n",
      " 0.12328767 0.24853229 0.49902153 1.        ] as a positional argument. Please change your invocation to use keyword arguments. From SciPy 1.14, passing these as positional arguments will result in an error.\n",
      "  area = simpson(distances, normalized_scales)\n"
     ]
    }
   ],
   "source": [
    "mce_gt_img2 = MCE(gt, img2)"
   ]
  },
  {
   "cell_type": "code",
   "execution_count": 17,
   "id": "e43f9315-9586-4def-9127-ca6acb867771",
   "metadata": {},
   "outputs": [
    {
     "name": "stdout",
     "output_type": "stream",
     "text": [
      "distance: 1.6387939453125\n",
      "distance: 2.4627685546875\n",
      "distance: 4.119873046875\n",
      "distance: 7.51953125\n",
      "distance: 9.5703125\n",
      "distance: 10.546875\n",
      "distance: 9.375\n",
      "distance: 0.0\n",
      "distance: 0.0\n",
      "distance: 0.0\n",
      "distances: [tensor(0.1942), tensor(0.0852), tensor(0.0162), tensor(0.0005), tensor(6.9770e-05), tensor(2.6275e-05), tensor(8.4818e-05), tensor(1.), tensor(1.), tensor(1.)]\n",
      "mce: 0.8771251206156365\n"
     ]
    },
    {
     "name": "stderr",
     "output_type": "stream",
     "text": [
      "/tmp/ipykernel_21951/3604676800.py:5: DeprecationWarning: You are passing x=[0.         0.00195695 0.00587084 0.01369863 0.02935421 0.06066536\n",
      " 0.12328767 0.24853229 0.49902153 1.        ] as a positional argument. Please change your invocation to use keyword arguments. From SciPy 1.14, passing these as positional arguments will result in an error.\n",
      "  area = simpson(distances, normalized_scales)\n"
     ]
    }
   ],
   "source": [
    "mce_gt_img3 = MCE(gt, img3)"
   ]
  },
  {
   "cell_type": "code",
   "execution_count": 18,
   "id": "6dd0e7d1-377d-4770-ae15-644bef4d50b6",
   "metadata": {},
   "outputs": [
    {
     "data": {
      "text/plain": [
       "0.8771670211379198"
      ]
     },
     "execution_count": 18,
     "metadata": {},
     "output_type": "execute_result"
    }
   ],
   "source": [
    "mce_gt_img2"
   ]
  },
  {
   "cell_type": "code",
   "execution_count": 19,
   "id": "f4fe5863-99da-4533-9488-842f45346d46",
   "metadata": {},
   "outputs": [
    {
     "data": {
      "text/plain": [
       "0.8771251206156365"
      ]
     },
     "execution_count": 19,
     "metadata": {},
     "output_type": "execute_result"
    }
   ],
   "source": [
    "mce_gt_img3"
   ]
  },
  {
   "cell_type": "code",
   "execution_count": 20,
   "id": "3c61d051-3d2f-4718-94f3-d44305633f57",
   "metadata": {},
   "outputs": [
    {
     "name": "stdout",
     "output_type": "stream",
     "text": [
      "distance: 5.6194305419921875\n",
      "distance: 5.4779052734375\n",
      "distance: 5.029296875\n",
      "distance: 4.5654296875\n",
      "distance: 4.78515625\n",
      "distance: 4.296875\n",
      "distance: 9.375\n",
      "distance: 0.0\n",
      "distance: 0.0\n",
      "distance: 0.0\n",
      "distances: [tensor(0.0036), tensor(0.0042), tensor(0.0065), tensor(0.0104), tensor(0.0084), tensor(0.0136), tensor(8.4818e-05), tensor(1.), tensor(1.), tensor(1.)]\n",
      "mce: 0.8779335227685479\n"
     ]
    },
    {
     "name": "stderr",
     "output_type": "stream",
     "text": [
      "/tmp/ipykernel_21951/3604676800.py:5: DeprecationWarning: You are passing x=[0.         0.00195695 0.00587084 0.01369863 0.02935421 0.06066536\n",
      " 0.12328767 0.24853229 0.49902153 1.        ] as a positional argument. Please change your invocation to use keyword arguments. From SciPy 1.14, passing these as positional arguments will result in an error.\n",
      "  area = simpson(distances, normalized_scales)\n"
     ]
    }
   ],
   "source": [
    "mce_gt_img2_no_edge = MCE(gt, img2, detect_edges = False)"
   ]
  },
  {
   "cell_type": "code",
   "execution_count": 21,
   "id": "673b0eab-1a97-4994-bd0d-96eb2eabebb1",
   "metadata": {},
   "outputs": [
    {
     "name": "stdout",
     "output_type": "stream",
     "text": [
      "distance: 5.5080413818359375\n",
      "distance: 5.5450439453125\n",
      "distance: 5.46875\n",
      "distance: 5.2490234375\n",
      "distance: 4.8828125\n",
      "distance: 4.296875\n",
      "distance: 9.375\n",
      "distance: 0.0\n",
      "distance: 0.0\n",
      "distance: 0.0\n",
      "distances: [tensor(0.0041), tensor(0.0039), tensor(0.0042), tensor(0.0053), tensor(0.0076), tensor(0.0136), tensor(8.4818e-05), tensor(1.), tensor(1.), tensor(1.)]\n",
      "mce: 0.8778335973439868\n"
     ]
    },
    {
     "name": "stderr",
     "output_type": "stream",
     "text": [
      "/tmp/ipykernel_21951/3604676800.py:5: DeprecationWarning: You are passing x=[0.         0.00195695 0.00587084 0.01369863 0.02935421 0.06066536\n",
      " 0.12328767 0.24853229 0.49902153 1.        ] as a positional argument. Please change your invocation to use keyword arguments. From SciPy 1.14, passing these as positional arguments will result in an error.\n",
      "  area = simpson(distances, normalized_scales)\n"
     ]
    }
   ],
   "source": [
    "mce_gt_img3_no_edge = MCE(gt, img3, detect_edges = False)"
   ]
  },
  {
   "cell_type": "code",
   "execution_count": 22,
   "id": "e8125c97-c523-4843-a449-b2b2c4d221cb",
   "metadata": {},
   "outputs": [
    {
     "name": "stdout",
     "output_type": "stream",
     "text": [
      "0.8779335227685479\n",
      "0.8771670211379198\n"
     ]
    }
   ],
   "source": [
    "print(mce_gt_img2_no_edge)\n",
    "print(mce_gt_img2)"
   ]
  },
  {
   "cell_type": "code",
   "execution_count": 23,
   "id": "d9cd0d40-487e-4ece-81a2-4601a93f7306",
   "metadata": {},
   "outputs": [
    {
     "name": "stdout",
     "output_type": "stream",
     "text": [
      "0.8778335973439868\n",
      "0.8771251206156365\n"
     ]
    }
   ],
   "source": [
    "print(mce_gt_img3_no_edge)\n",
    "print(mce_gt_img3)"
   ]
  },
  {
   "cell_type": "code",
   "execution_count": 24,
   "id": "482f7e45-7889-40fb-b048-d81a306ef600",
   "metadata": {},
   "outputs": [
    {
     "name": "stdout",
     "output_type": "stream",
     "text": [
      "distance: 0.0\n",
      "distance: 0.0\n",
      "distance: 0.0\n",
      "distance: 0.0\n",
      "distance: 0.0\n",
      "distance: 0.0\n",
      "distance: 0.0\n",
      "distance: 0.0\n",
      "distance: 0.0\n",
      "distance: 0.0\n",
      "distances: [tensor(1.), tensor(1.), tensor(1.), tensor(1.), tensor(1.), tensor(1.), tensor(1.), tensor(1.), tensor(1.), tensor(1.)]\n",
      "mce: 1.0\n"
     ]
    },
    {
     "name": "stderr",
     "output_type": "stream",
     "text": [
      "/tmp/ipykernel_21951/3604676800.py:5: DeprecationWarning: You are passing x=[0.         0.00195695 0.00587084 0.01369863 0.02935421 0.06066536\n",
      " 0.12328767 0.24853229 0.49902153 1.        ] as a positional argument. Please change your invocation to use keyword arguments. From SciPy 1.14, passing these as positional arguments will result in an error.\n",
      "  area = simpson(distances, normalized_scales)\n"
     ]
    }
   ],
   "source": [
    "mce_gt_gt = MCE(gt, gt, detect_edges = False)"
   ]
  },
  {
   "cell_type": "code",
   "execution_count": 25,
   "id": "ad3e49a3-e215-41d6-9b31-84b2016bc8b0",
   "metadata": {},
   "outputs": [],
   "source": [
    "# Example2: Solar filament"
   ]
  },
  {
   "cell_type": "code",
   "execution_count": 26,
   "id": "1bac9154-b097-4d34-ac6e-f8a7b2f29450",
   "metadata": {},
   "outputs": [],
   "source": [
    "mask1 = load_mask('./test_images/test_segm_input_Z2/mask1.png')\n",
    "mask2 = load_mask('./test_images/test_segm_input_Z2/mask2.png')\n",
    "mask3 = load_mask('./test_images/test_segm_input_Z2/mask3.png')\n",
    "masks = [mask1, mask2, mask3]"
   ]
  },
  {
   "cell_type": "code",
   "execution_count": 27,
   "id": "5f29edfb-ad43-466d-b394-bdfc6d0d975c",
   "metadata": {},
   "outputs": [
    {
     "data": {
      "image/png": "[encoded data removed]",
      "text/plain": [
       "<Figure size 1500x4500 with 3 Axes>"
      ]
     },
     "metadata": {},
     "output_type": "display_data"
    }
   ],
   "source": [
    "fig = plt.figure(figsize=(15, len(masks) * 15))\n",
    "all_axes = []\n",
    "j = 0\n",
    "for i in range(len(masks)):\n",
    "    all_axes.append(fig.add_subplot(1,4,i+1))\n",
    "\n",
    "for ax in all_axes:\n",
    "    ax.axis('off')\n",
    "    title = 'Mask{}'.format(j+1) if j!=0 else 'Mask{}: Reference'.format(j+1)\n",
    "    ax.set_title(title)\n",
    "    ax.imshow(masks[j], cmap='gist_gray')\n",
    "    j = j + 1\n",
    "\n",
    "plt.show()"
   ]
  },
  {
   "cell_type": "code",
   "execution_count": 28,
   "id": "8199e522-5185-4f87-9313-067b7e9ea359",
   "metadata": {},
   "outputs": [
    {
     "name": "stdout",
     "output_type": "stream",
     "text": [
      "distance: 2.391815185546875\n",
      "distance: 3.40118408203125\n",
      "distance: 5.023193359375\n",
      "distance: 6.54296875\n",
      "distance: 6.640625\n",
      "distance: 4.6875\n",
      "distance: 1.5625\n",
      "distance: 6.25\n",
      "distance: 25.0\n",
      "distance: 0.0\n",
      "distances: [tensor(0.0915), tensor(0.0333), tensor(0.0066), tensor(0.0014), tensor(0.0013), tensor(0.0092), tensor(0.2096), tensor(0.0019), tensor(1.3888e-11), tensor(1.)]\n",
      "mce: 0.20091472371931593\n"
     ]
    },
    {
     "name": "stderr",
     "output_type": "stream",
     "text": [
      "/tmp/ipykernel_21951/3604676800.py:5: DeprecationWarning: You are passing x=[0.         0.00195695 0.00587084 0.01369863 0.02935421 0.06066536\n",
      " 0.12328767 0.24853229 0.49902153 1.        ] as a positional argument. Please change your invocation to use keyword arguments. From SciPy 1.14, passing these as positional arguments will result in an error.\n",
      "  area = simpson(distances, normalized_scales)\n"
     ]
    }
   ],
   "source": [
    "mce_f1_f2 = MCE(mask1, mask2)"
   ]
  },
  {
   "cell_type": "code",
   "execution_count": 29,
   "id": "ab7edc00-e363-48a9-b722-3d359879d2e7",
   "metadata": {},
   "outputs": [
    {
     "name": "stdout",
     "output_type": "stream",
     "text": [
      "distance: 4.2102813720703125\n",
      "distance: 4.30908203125\n",
      "distance: 4.376220703125\n",
      "distance: 4.345703125\n",
      "distance: 4.6875\n",
      "distance: 4.6875\n",
      "distance: 1.5625\n",
      "distance: 6.25\n",
      "distance: 25.0\n",
      "distance: 0.0\n",
      "distances: [tensor(0.0148), tensor(0.0134), tensor(0.0126), tensor(0.0130), tensor(0.0092), tensor(0.0092), tensor(0.2096), tensor(0.0019), tensor(1.3888e-11), tensor(1.)]\n",
      "mce: 0.20108528007793355\n"
     ]
    },
    {
     "name": "stderr",
     "output_type": "stream",
     "text": [
      "/tmp/ipykernel_21951/3604676800.py:5: DeprecationWarning: You are passing x=[0.         0.00195695 0.00587084 0.01369863 0.02935421 0.06066536\n",
      " 0.12328767 0.24853229 0.49902153 1.        ] as a positional argument. Please change your invocation to use keyword arguments. From SciPy 1.14, passing these as positional arguments will result in an error.\n",
      "  area = simpson(distances, normalized_scales)\n"
     ]
    }
   ],
   "source": [
    "mce_f1_f2_no_edge = MCE(mask1, mask2, detect_edges=False)"
   ]
  },
  {
   "cell_type": "code",
   "execution_count": 30,
   "id": "6c1f886c-eea9-43de-bd41-a47f4b9eb1ed",
   "metadata": {},
   "outputs": [
    {
     "name": "stdout",
     "output_type": "stream",
     "text": [
      "distance: 2.1953582763671875\n",
      "distance: 3.179931640625\n",
      "distance: 4.8583984375\n",
      "distance: 6.7138671875\n",
      "distance: 7.6171875\n",
      "distance: 7.03125\n",
      "distance: 7.8125\n",
      "distance: 12.5\n",
      "distance: 25.0\n",
      "distance: 0.0\n",
      "distances: [tensor(0.1113), tensor(0.0416), tensor(0.0078), tensor(0.0012), tensor(0.0005), tensor(0.0009), tensor(0.0004), tensor(3.7267e-06), tensor(1.3888e-11), tensor(1.)]\n",
      "mce: 0.19511614753768763\n"
     ]
    },
    {
     "name": "stderr",
     "output_type": "stream",
     "text": [
      "/tmp/ipykernel_21951/3604676800.py:5: DeprecationWarning: You are passing x=[0.         0.00195695 0.00587084 0.01369863 0.02935421 0.06066536\n",
      " 0.12328767 0.24853229 0.49902153 1.        ] as a positional argument. Please change your invocation to use keyword arguments. From SciPy 1.14, passing these as positional arguments will result in an error.\n",
      "  area = simpson(distances, normalized_scales)\n"
     ]
    }
   ],
   "source": [
    "mce_f1_f3 = MCE(mask1, mask3)"
   ]
  },
  {
   "cell_type": "code",
   "execution_count": 31,
   "id": "a5654adc-72ff-4845-a713-e2be6f48e1f4",
   "metadata": {},
   "outputs": [
    {
     "name": "stdout",
     "output_type": "stream",
     "text": [
      "distance: 3.806304931640625\n",
      "distance: 3.92913818359375\n",
      "distance: 4.13818359375\n",
      "distance: 4.541015625\n",
      "distance: 5.46875\n",
      "distance: 6.640625\n",
      "distance: 7.8125\n",
      "distance: 12.5\n",
      "distance: 25.0\n",
      "distance: 0.0\n",
      "distances: [tensor(0.0222), tensor(0.0197), tensor(0.0160), tensor(0.0107), tensor(0.0042), tensor(0.0013), tensor(0.0004), tensor(3.7267e-06), tensor(1.3888e-11), tensor(1.)]\n",
      "mce: 0.19524965240823033\n"
     ]
    },
    {
     "name": "stderr",
     "output_type": "stream",
     "text": [
      "/tmp/ipykernel_21951/3604676800.py:5: DeprecationWarning: You are passing x=[0.         0.00195695 0.00587084 0.01369863 0.02935421 0.06066536\n",
      " 0.12328767 0.24853229 0.49902153 1.        ] as a positional argument. Please change your invocation to use keyword arguments. From SciPy 1.14, passing these as positional arguments will result in an error.\n",
      "  area = simpson(distances, normalized_scales)\n"
     ]
    }
   ],
   "source": [
    "mce_f1_f3_no_edge = MCE(mask1, mask3, detect_edges=False)"
   ]
  },
  {
   "cell_type": "code",
   "execution_count": 32,
   "id": "a483649e-22c4-4aa8-a277-08d70de660dd",
   "metadata": {},
   "outputs": [
    {
     "name": "stdout",
     "output_type": "stream",
     "text": [
      "distance: 0.0\n",
      "distance: 0.0\n",
      "distance: 0.0\n",
      "distance: 0.0\n",
      "distance: 0.0\n",
      "distance: 0.0\n",
      "distance: 0.0\n",
      "distance: 0.0\n",
      "distance: 0.0\n",
      "distance: 0.0\n",
      "distances: [tensor(1.), tensor(1.), tensor(1.), tensor(1.), tensor(1.), tensor(1.), tensor(1.), tensor(1.), tensor(1.), tensor(1.)]\n",
      "mce: 1.0\n"
     ]
    },
    {
     "name": "stderr",
     "output_type": "stream",
     "text": [
      "/tmp/ipykernel_21951/3604676800.py:5: DeprecationWarning: You are passing x=[0.         0.00195695 0.00587084 0.01369863 0.02935421 0.06066536\n",
      " 0.12328767 0.24853229 0.49902153 1.        ] as a positional argument. Please change your invocation to use keyword arguments. From SciPy 1.14, passing these as positional arguments will result in an error.\n",
      "  area = simpson(distances, normalized_scales)\n"
     ]
    }
   ],
   "source": [
    "mce_f1_f1 = MCE(mask1, mask1)"
   ]
  },
  {
   "cell_type": "code",
   "execution_count": 33,
   "id": "268670c8-25e8-404f-877d-69b88cea6f51",
   "metadata": {},
   "outputs": [
    {
     "name": "stdout",
     "output_type": "stream",
     "text": [
      "distance: 0.0\n",
      "distance: 0.0\n",
      "distance: 0.0\n",
      "distance: 0.0\n",
      "distance: 0.0\n",
      "distance: 0.0\n",
      "distance: 0.0\n",
      "distance: 0.0\n",
      "distance: 0.0\n",
      "distance: 0.0\n",
      "distances: [tensor(1.), tensor(1.), tensor(1.), tensor(1.), tensor(1.), tensor(1.), tensor(1.), tensor(1.), tensor(1.), tensor(1.)]\n",
      "mce: 1.0\n"
     ]
    },
    {
     "name": "stderr",
     "output_type": "stream",
     "text": [
      "/tmp/ipykernel_21951/3604676800.py:5: DeprecationWarning: You are passing x=[0.         0.00195695 0.00587084 0.01369863 0.02935421 0.06066536\n",
      " 0.12328767 0.24853229 0.49902153 1.        ] as a positional argument. Please change your invocation to use keyword arguments. From SciPy 1.14, passing these as positional arguments will result in an error.\n",
      "  area = simpson(distances, normalized_scales)\n"
     ]
    }
   ],
   "source": [
    "mce_f1_f1_no_edge = MCE(mask1, mask1, detect_edges=False)"
   ]
  },
  {
   "cell_type": "code",
   "execution_count": 34,
   "id": "f925e51f-0356-4b67-b9d5-43a773df6fdb",
   "metadata": {},
   "outputs": [],
   "source": [
    "miou_obj = miou.MIoU(scales, edge_only=True)\n",
    "miou_obj_no_edge = miou.MIoU(scales, edge_only=False)"
   ]
  },
  {
   "cell_type": "code",
   "execution_count": 35,
   "id": "122020d5-4c4c-4ec9-acde-d577af478089",
   "metadata": {},
   "outputs": [
    {
     "name": "stdout",
     "output_type": "stream",
     "text": [
      "-----------------------resuts-----------------------\n",
      "=========example1: gt, img2===============\n",
      "mce: 0.8771670211379198\n",
      "mce without edge detection: 0.8779335227685479\n",
      "MioU:0.43646410763160254\n",
      "MioU without edge detection:1.0\n",
      "=========example1: gt, img3===============\n",
      "mce: 0.8771251206156365\n",
      "mce without edge detection: 0.8778335973439868\n",
      "MioU:0.501124778635557\n",
      "MioU without edge detection:1.0\n",
      "=========example2: mask1, mask1===============\n",
      "mce: 1.0\n",
      "mce without edge detection: 1.0\n",
      "MioU:1.0\n",
      "MioU without edge detection:1.0\n",
      "=========example2: mask1, mask2===============\n",
      "mce: 0.20091472371931593\n",
      "mce without edge detection: 0.20108528007793355\n",
      "MioU:0.5931655063539093\n",
      "MioU without edge detection:0.7207830905399536\n",
      "=========example2: mask1, mask3===============\n",
      "mce: 0.19511614753768763\n",
      "mce without edge detection: 0.19524965240823033\n",
      "MioU:0.4809574598992603\n",
      "MioU without edge detection:0.6280702813082769\n"
     ]
    }
   ],
   "source": [
    "print('-----------------------resuts-----------------------')\n",
    "print('=========example1: gt, img2===============')\n",
    "print(f'mce: {mce_gt_img2}')\n",
    "print(f'mce without edge detection: {mce_gt_img2_no_edge}')\n",
    "print(f'MioU:{miou_obj.measure(gt, img2)}')\n",
    "print(f'MioU without edge detection:{miou_obj_no_edge.measure(gt, img2)}')\n",
    "print('=========example1: gt, img3===============')\n",
    "print(f'mce: {mce_gt_img3}')\n",
    "print(f'mce without edge detection: {mce_gt_img3_no_edge}')\n",
    "print(f'MioU:{miou_obj.measure(gt, img3)}')\n",
    "print(f'MioU without edge detection:{miou_obj_no_edge.measure(gt, img3)}')\n",
    "print('=========example2: mask1, mask1===============')\n",
    "print(f'mce: {mce_f1_f1}')\n",
    "print(f'mce without edge detection: {mce_f1_f1_no_edge}')\n",
    "print(f'MioU:{miou_obj.measure(mask1, mask1)}')\n",
    "print(f'MioU without edge detection:{miou_obj_no_edge.measure(mask1, mask1)}')\n",
    "print('=========example2: mask1, mask2===============')\n",
    "print(f'mce: {mce_f1_f2}')\n",
    "print(f'mce without edge detection: {mce_f1_f2_no_edge}')\n",
    "print(f'MioU:{miou_obj.measure(mask1, mask2)}')\n",
    "print(f'MioU without edge detection:{miou_obj_no_edge.measure(mask1, mask2)}')\n",
    "print('=========example2: mask1, mask3===============')\n",
    "print(f'mce: {mce_f1_f3}')\n",
    "print(f'mce without edge detection: {mce_f1_f3_no_edge}')\n",
    "print(f'MioU:{miou_obj.measure(mask1, mask3)}')\n",
    "print(f'MioU without edge detection:{miou_obj_no_edge.measure(mask1, mask3)}')"
   ]
  },
  {
   "cell_type": "code",
   "execution_count": 36,
   "id": "3910db2e-5cec-4f57-bd89-46bcdaf16818",
   "metadata": {},
   "outputs": [],
   "source": [
    "# Example3: Leaf Example"
   ]
  },
  {
   "cell_type": "code",
   "execution_count": 37,
   "id": "a6ba1d53-6e3b-4d86-8f8c-390ddb104cb6",
   "metadata": {},
   "outputs": [],
   "source": [
    "mask1 = load_mask('./test_images/test_segm_input_Z3/mask1.png')\n",
    "mask2 = load_mask('./test_images/test_segm_input_Z3/mask2.png')\n",
    "mask3 = load_mask('./test_images/test_segm_input_Z3/mask3.png')\n",
    "masks = [mask1, mask2, mask3]"
   ]
  },
  {
   "cell_type": "code",
   "execution_count": 38,
   "id": "6d2a000e-1e31-4379-b451-5bfddd3f26a9",
   "metadata": {},
   "outputs": [
    {
     "data": {
      "image/png": "[encoded data removed]",
      "text/plain": [
       "<Figure size 1500x4500 with 3 Axes>"
      ]
     },
     "metadata": {},
     "output_type": "display_data"
    }
   ],
   "source": [
    "fig = plt.figure(figsize=(15, len(masks) * 15))\n",
    "all_axes = []\n",
    "j = 0\n",
    "for i in range(len(masks)):\n",
    "    all_axes.append(fig.add_subplot(1,4,i+1))\n",
    "\n",
    "for ax in all_axes:\n",
    "    ax.axis('off')\n",
    "    title = 'Mask{}'.format(j+1) if j!=0 else 'Mask{}: Reference'.format(j+1)\n",
    "    ax.set_title(title)\n",
    "    ax.imshow(masks[j], cmap='gist_gray')\n",
    "    j = j + 1\n",
    "\n",
    "plt.show()"
   ]
  },
  {
   "cell_type": "code",
   "execution_count": 39,
   "id": "f04a1c5a-9b2d-4785-a5ea-5462e403e8cf",
   "metadata": {},
   "outputs": [
    {
     "name": "stdout",
     "output_type": "stream",
     "text": [
      "distance: 0.0\n",
      "distance: 0.0\n",
      "distance: 0.0\n",
      "distance: 0.0\n",
      "distance: 0.0\n",
      "distance: 0.0\n",
      "distance: 0.0\n",
      "distance: 0.0\n",
      "distance: 0.0\n",
      "distance: 0.0\n",
      "distances: [tensor(1.), tensor(1.), tensor(1.), tensor(1.), tensor(1.), tensor(1.), tensor(1.), tensor(1.), tensor(1.), tensor(1.)]\n",
      "mce: 1.0\n"
     ]
    },
    {
     "name": "stderr",
     "output_type": "stream",
     "text": [
      "/tmp/ipykernel_21951/3604676800.py:5: DeprecationWarning: You are passing x=[0.         0.00195695 0.00587084 0.01369863 0.02935421 0.06066536\n",
      " 0.12328767 0.24853229 0.49902153 1.        ] as a positional argument. Please change your invocation to use keyword arguments. From SciPy 1.14, passing these as positional arguments will result in an error.\n",
      "  area = simpson(distances, normalized_scales)\n"
     ]
    }
   ],
   "source": [
    "mce_L1_L1 = MCE(mask1, mask1)"
   ]
  },
  {
   "cell_type": "code",
   "execution_count": 40,
   "id": "e39f0b0e-f1d6-4ee2-935e-98acec1df59c",
   "metadata": {},
   "outputs": [
    {
     "name": "stdout",
     "output_type": "stream",
     "text": [
      "distance: 0.0\n",
      "distance: 0.0\n",
      "distance: 0.0\n",
      "distance: 0.0\n",
      "distance: 0.0\n",
      "distance: 0.0\n",
      "distance: 0.0\n",
      "distance: 0.0\n",
      "distance: 0.0\n",
      "distance: 0.0\n",
      "distances: [tensor(1.), tensor(1.), tensor(1.), tensor(1.), tensor(1.), tensor(1.), tensor(1.), tensor(1.), tensor(1.), tensor(1.)]\n",
      "mce: 1.0\n"
     ]
    },
    {
     "name": "stderr",
     "output_type": "stream",
     "text": [
      "/tmp/ipykernel_21951/3604676800.py:5: DeprecationWarning: You are passing x=[0.         0.00195695 0.00587084 0.01369863 0.02935421 0.06066536\n",
      " 0.12328767 0.24853229 0.49902153 1.        ] as a positional argument. Please change your invocation to use keyword arguments. From SciPy 1.14, passing these as positional arguments will result in an error.\n",
      "  area = simpson(distances, normalized_scales)\n"
     ]
    }
   ],
   "source": [
    "mce_L1_L1_no_edge = MCE(mask1, mask1, detect_edges=False)"
   ]
  },
  {
   "cell_type": "code",
   "execution_count": 41,
   "id": "dd849912-0077-485d-8a9a-e30334fbf8ae",
   "metadata": {},
   "outputs": [
    {
     "name": "stdout",
     "output_type": "stream",
     "text": [
      "distance: 8.454513549804688\n",
      "distance: 11.5020751953125\n",
      "distance: 14.239501953125\n",
      "distance: 13.9892578125\n",
      "distance: 12.40234375\n",
      "distance: 8.59375\n",
      "distance: 3.125\n",
      "distance: 12.5\n",
      "distance: 0.0\n",
      "distance: 0.0\n",
      "distances: [tensor(0.0002), tensor(1.0109e-05), tensor(6.5443e-07), tensor(8.4051e-07), tensor(4.1089e-06), tensor(0.0002), tensor(0.0439), tensor(3.7267e-06), tensor(1.), tensor(1.)]\n",
      "mce: 0.7072860454468101\n"
     ]
    },
    {
     "name": "stderr",
     "output_type": "stream",
     "text": [
      "/tmp/ipykernel_21951/3604676800.py:5: DeprecationWarning: You are passing x=[0.         0.00195695 0.00587084 0.01369863 0.02935421 0.06066536\n",
      " 0.12328767 0.24853229 0.49902153 1.        ] as a positional argument. Please change your invocation to use keyword arguments. From SciPy 1.14, passing these as positional arguments will result in an error.\n",
      "  area = simpson(distances, normalized_scales)\n"
     ]
    }
   ],
   "source": [
    "mce_L1_L2 = MCE(mask1, mask2)"
   ]
  },
  {
   "cell_type": "code",
   "execution_count": 42,
   "id": "cf61bef1-b135-400e-8bd9-a497f97b28e4",
   "metadata": {},
   "outputs": [
    {
     "name": "stdout",
     "output_type": "stream",
     "text": [
      "distance: 8.385848999023438\n",
      "distance: 7.4127197265625\n",
      "distance: 5.37109375\n",
      "distance: 3.7353515625\n",
      "distance: 4.1015625\n",
      "distance: 3.515625\n",
      "distance: 4.6875\n",
      "distance: 12.5\n",
      "distance: 0.0\n",
      "distance: 0.0\n",
      "distances: [tensor(0.0002), tensor(0.0006), tensor(0.0046), tensor(0.0239), tensor(0.0165), tensor(0.0297), tensor(0.0092), tensor(3.7267e-06), tensor(1.), tensor(1.)]\n",
      "mce: 0.7090787663210285\n"
     ]
    },
    {
     "name": "stderr",
     "output_type": "stream",
     "text": [
      "/tmp/ipykernel_21951/3604676800.py:5: DeprecationWarning: You are passing x=[0.         0.00195695 0.00587084 0.01369863 0.02935421 0.06066536\n",
      " 0.12328767 0.24853229 0.49902153 1.        ] as a positional argument. Please change your invocation to use keyword arguments. From SciPy 1.14, passing these as positional arguments will result in an error.\n",
      "  area = simpson(distances, normalized_scales)\n"
     ]
    }
   ],
   "source": [
    "mce_L1_L2_no_edge = MCE(mask1, mask2, detect_edges=False)"
   ]
  },
  {
   "cell_type": "code",
   "execution_count": 43,
   "id": "cff9efcb-21ad-4234-834b-7c0f44b0f412",
   "metadata": {},
   "outputs": [
    {
     "name": "stdout",
     "output_type": "stream",
     "text": [
      "distance: 7.2635650634765625\n",
      "distance: 10.302734375\n",
      "distance: 13.4765625\n",
      "distance: 13.8916015625\n",
      "distance: 12.109375\n",
      "distance: 8.984375\n",
      "distance: 4.6875\n",
      "distance: 6.25\n",
      "distance: 0.0\n",
      "distance: 0.0\n",
      "distances: [tensor(0.0007), tensor(3.3541e-05), tensor(1.4035e-06), tensor(9.2673e-07), tensor(5.5076e-06), tensor(0.0001), tensor(0.0092), tensor(0.0019), tensor(1.), tensor(1.)]\n",
      "mce: 0.7067948790052484\n"
     ]
    },
    {
     "name": "stderr",
     "output_type": "stream",
     "text": [
      "/tmp/ipykernel_21951/3604676800.py:5: DeprecationWarning: You are passing x=[0.         0.00195695 0.00587084 0.01369863 0.02935421 0.06066536\n",
      " 0.12328767 0.24853229 0.49902153 1.        ] as a positional argument. Please change your invocation to use keyword arguments. From SciPy 1.14, passing these as positional arguments will result in an error.\n",
      "  area = simpson(distances, normalized_scales)\n"
     ]
    }
   ],
   "source": [
    "mce_L1_L3 = MCE(mask1, mask3)"
   ]
  },
  {
   "cell_type": "code",
   "execution_count": 44,
   "id": "708897d8-f6fe-4a8a-bd91-ea422cb25a2d",
   "metadata": {},
   "outputs": [
    {
     "name": "stdout",
     "output_type": "stream",
     "text": [
      "distance: 8.443832397460938\n",
      "distance: 6.94122314453125\n",
      "distance: 4.010009765625\n",
      "distance: 1.46484375\n",
      "distance: 1.3671875\n",
      "distance: 1.953125\n",
      "distance: 1.5625\n",
      "distance: 0.0\n",
      "distance: 0.0\n",
      "distance: 0.0\n",
      "distances: [tensor(0.0002), tensor(0.0010), tensor(0.0181), tensor(0.2311), tensor(0.2548), tensor(0.1418), tensor(0.2096), tensor(1.), tensor(1.), tensor(1.)]\n",
      "mce: 0.8972240570594486\n"
     ]
    },
    {
     "name": "stderr",
     "output_type": "stream",
     "text": [
      "/tmp/ipykernel_21951/3604676800.py:5: DeprecationWarning: You are passing x=[0.         0.00195695 0.00587084 0.01369863 0.02935421 0.06066536\n",
      " 0.12328767 0.24853229 0.49902153 1.        ] as a positional argument. Please change your invocation to use keyword arguments. From SciPy 1.14, passing these as positional arguments will result in an error.\n",
      "  area = simpson(distances, normalized_scales)\n"
     ]
    }
   ],
   "source": [
    "mce_L1_L3_no_edge = MCE(mask1, mask3, detect_edges=False)"
   ]
  },
  {
   "cell_type": "code",
   "execution_count": 45,
   "id": "e138c8f3-1dc4-4e2b-a2a4-7adaa4750a98",
   "metadata": {},
   "outputs": [
    {
     "name": "stdout",
     "output_type": "stream",
     "text": [
      "-----------------------resuts-----------------------\n",
      "=========example3: gt, gt===============\n",
      "mce: 1.0\n",
      "mce without edge detection: 1.0\n",
      "MioU:1.0\n",
      "MioU without edge detection:1.0\n",
      "=========example3: gt, mask2===============\n",
      "mce: 0.7072860454468101\n",
      "mce without edge detection: 0.7090787663210285\n",
      "MioU:0.6129562121025678\n",
      "MioU without edge detection:0.9992155600159403\n",
      "=========example2: mask1, mask3===============\n",
      "mce: 0.7067948790052484\n",
      "mce without edge detection: 0.8972240570594486\n",
      "MioU:0.5386056072966319\n",
      "MioU without edge detection:0.9968354374046466\n"
     ]
    }
   ],
   "source": [
    "print('-----------------------resuts-----------------------')\n",
    "print('=========example3: gt, gt===============')\n",
    "print(f'mce: {mce_L1_L1}')\n",
    "print(f'mce without edge detection: {mce_L1_L1_no_edge}')\n",
    "print(f'MioU:{miou_obj.measure(mask1, mask1)}')\n",
    "print(f'MioU without edge detection:{miou_obj_no_edge.measure(mask1, mask1)}')\n",
    "print('=========example3: gt, mask2===============')\n",
    "print(f'mce: {mce_L1_L2}')\n",
    "print(f'mce without edge detection: {mce_L1_L2_no_edge}')\n",
    "print(f'MioU:{miou_obj.measure(mask1, mask2)}')\n",
    "print(f'MioU without edge detection:{miou_obj_no_edge.measure(mask1, mask2)}')\n",
    "print('=========example2: mask1, mask3===============')\n",
    "print(f'mce: {mce_L1_L3}')\n",
    "print(f'mce without edge detection: {mce_L1_L3_no_edge}')\n",
    "print(f'MioU:{miou_obj.measure(mask1, mask3)}')\n",
    "print(f'MioU without edge detection:{miou_obj_no_edge.measure(mask1, mask3)}')"
   ]
  },
  {
   "cell_type": "code",
   "execution_count": 46,
   "id": "b204585a-b336-440e-9fae-70afc5b1dec8",
   "metadata": {},
   "outputs": [],
   "source": [
    "# Example4: Synthetic Regions"
   ]
  },
  {
   "cell_type": "code",
   "execution_count": 47,
   "id": "42701292-382e-49b1-aad9-94f932a04212",
   "metadata": {},
   "outputs": [],
   "source": [
    "import os\n",
    "path = './test_images/test_segm_input_F/'\n",
    "\n",
    "all_paths = [os.path.join(path, f) for f in os.listdir(path) if f.startswith('mask')]\n",
    "all_paths.sort(key=lambda f: int(''.join(filter(str.isdigit, f))))\n",
    "\n",
    "all_masks = []\n",
    "for p in all_paths:\n",
    "    all_masks.append(load_mask(p))"
   ]
  },
  {
   "cell_type": "code",
   "execution_count": 48,
   "id": "6807a711-5f88-4b2f-82ee-bf5fa636e088",
   "metadata": {},
   "outputs": [
    {
     "data": {
      "image/png": "[encoded data removed]",
      "text/plain": [
       "<Figure size 1000x1600 with 28 Axes>"
      ]
     },
     "metadata": {},
     "output_type": "display_data"
    }
   ],
   "source": [
    "n_rows, n_cols = 7, 4\n",
    "fig = plt.figure(figsize=(10, 16))\n",
    "all_axes = []\n",
    "j = 0\n",
    "for i in range(len(all_paths)):\n",
    "    all_axes.append(fig.add_subplot(n_rows, n_cols, i+1))\n",
    "\n",
    "labels = []\n",
    "for ax in all_axes:\n",
    "    ax.axis('off')\n",
    "    title = '{}-{}'.format(all_paths[j][-7], all_paths[j][-5])\n",
    "    labels.append(title)\n",
    "    ax.set_title(title, fontsize= 12)\n",
    "    ax.imshow(all_masks[j], cmap='gist_gray')\n",
    "    j = j + 1\n",
    "\n",
    "plt.show()"
   ]
  },
  {
   "cell_type": "code",
   "execution_count": 49,
   "id": "eaa9f33b-f6ed-4e9b-a0c3-8c7f9b76e0c2",
   "metadata": {},
   "outputs": [],
   "source": [
    "ref_idx = 12   # index of reference object (i.e. ground truth)\n",
    "gt = all_masks[ref_idx]"
   ]
  },
  {
   "cell_type": "code",
   "execution_count": 50,
   "id": "28791d47-bd0c-40ad-ab36-820047f2fec1",
   "metadata": {},
   "outputs": [
    {
     "name": "stdout",
     "output_type": "stream",
     "text": [
      "distance: 1.718902587890625\n",
      "distance: 2.5665283203125\n",
      "distance: 3.96728515625\n",
      "distance: 5.0537109375\n",
      "distance: 5.2734375\n",
      "distance: 4.6875\n",
      "distance: 7.8125\n",
      "distance: 12.5\n",
      "distance: 0.0\n",
      "distance: 0.0\n",
      "distances: [tensor(0.1793), tensor(0.0768), tensor(0.0189), tensor(0.0064), tensor(0.0051), tensor(0.0092), tensor(0.0004), tensor(3.7267e-06), tensor(1.), tensor(1.)]\n",
      "mce: 0.707407951907322\n"
     ]
    },
    {
     "name": "stderr",
     "output_type": "stream",
     "text": [
      "/tmp/ipykernel_21951/3604676800.py:5: DeprecationWarning: You are passing x=[0.         0.00195695 0.00587084 0.01369863 0.02935421 0.06066536\n",
      " 0.12328767 0.24853229 0.49902153 1.        ] as a positional argument. Please change your invocation to use keyword arguments. From SciPy 1.14, passing these as positional arguments will result in an error.\n",
      "  area = simpson(distances, normalized_scales)\n"
     ]
    },
    {
     "name": "stdout",
     "output_type": "stream",
     "text": [
      "distance: 2.978515625\n",
      "distance: 3.0120849609375\n",
      "distance: 3.1005859375\n",
      "distance: 3.0517578125\n",
      "distance: 2.63671875\n",
      "distance: 1.953125\n",
      "distance: 4.6875\n",
      "distance: 12.5\n",
      "distance: 0.0\n",
      "distance: 0.0\n",
      "distances: [tensor(0.0509), tensor(0.0492), tensor(0.0450), tensor(0.0473), tensor(0.0716), tensor(0.1418), tensor(0.0092), tensor(3.7267e-06), tensor(1.), tensor(1.)]\n",
      "mce: 0.7179849844517224\n",
      "index: 0\n",
      "mce_gt_mask: 0.707407951907322\n",
      "------------------------\n"
     ]
    },
    {
     "name": "stderr",
     "output_type": "stream",
     "text": [
      "/tmp/ipykernel_21951/3604676800.py:5: DeprecationWarning: You are passing x=[0.         0.00195695 0.00587084 0.01369863 0.02935421 0.06066536\n",
      " 0.12328767 0.24853229 0.49902153 1.        ] as a positional argument. Please change your invocation to use keyword arguments. From SciPy 1.14, passing these as positional arguments will result in an error.\n",
      "  area = simpson(distances, normalized_scales)\n"
     ]
    },
    {
     "name": "stdout",
     "output_type": "stream",
     "text": [
      "distance: 1.5895843505859375\n",
      "distance: 2.3712158203125\n",
      "distance: 3.77197265625\n",
      "distance: 4.98046875\n",
      "distance: 4.6875\n",
      "distance: 5.859375\n",
      "distance: 9.375\n",
      "distance: 12.5\n",
      "distance: 0.0\n",
      "distance: 0.0\n",
      "distances: [tensor(0.2040), tensor(0.0934), tensor(0.0230), tensor(0.0069), tensor(0.0092), tensor(0.0029), tensor(8.4818e-05), tensor(3.7267e-06), tensor(1.), tensor(1.)]\n",
      "mce: 0.7070640664165013\n",
      "distance: 2.9560089111328125\n",
      "distance: 2.99530029296875\n",
      "distance: 3.0517578125\n",
      "distance: 3.0029296875\n",
      "distance: 2.34375\n",
      "distance: 1.953125\n",
      "distance: 4.6875\n",
      "distance: 12.5\n",
      "distance: 0.0\n",
      "distance: 0.0\n",
      "distances: [tensor(0.0520), tensor(0.0500), tensor(0.0473), tensor(0.0496), tensor(0.0960), tensor(0.1418), tensor(0.0092), tensor(3.7267e-06), tensor(1.), tensor(1.)]\n",
      "mce: 0.718176702438068\n",
      "index: 1\n",
      "mce_gt_mask: 0.7070640664165013\n",
      "------------------------\n",
      "distance: 1.461029052734375\n",
      "distance: 2.20184326171875\n",
      "distance: 3.5888671875\n",
      "distance: 5.3466796875\n",
      "distance: 4.78515625\n",
      "distance: 5.859375\n",
      "distance: 9.375\n",
      "distance: 12.5\n",
      "distance: 0.0\n",
      "distance: 0.0\n",
      "distances: [tensor(0.2320), tensor(0.1106), tensor(0.0276), tensor(0.0048), tensor(0.0084), tensor(0.0029), tensor(8.4818e-05), tensor(3.7267e-06), tensor(1.), tensor(1.)]\n",
      "mce: 0.7071045879318414\n"
     ]
    },
    {
     "name": "stderr",
     "output_type": "stream",
     "text": [
      "/tmp/ipykernel_21951/3604676800.py:5: DeprecationWarning: You are passing x=[0.         0.00195695 0.00587084 0.01369863 0.02935421 0.06066536\n",
      " 0.12328767 0.24853229 0.49902153 1.        ] as a positional argument. Please change your invocation to use keyword arguments. From SciPy 1.14, passing these as positional arguments will result in an error.\n",
      "  area = simpson(distances, normalized_scales)\n",
      "/tmp/ipykernel_21951/3604676800.py:5: DeprecationWarning: You are passing x=[0.         0.00195695 0.00587084 0.01369863 0.02935421 0.06066536\n",
      " 0.12328767 0.24853229 0.49902153 1.        ] as a positional argument. Please change your invocation to use keyword arguments. From SciPy 1.14, passing these as positional arguments will result in an error.\n",
      "  area = simpson(distances, normalized_scales)\n",
      "/tmp/ipykernel_21951/3604676800.py:5: DeprecationWarning: You are passing x=[0.         0.00195695 0.00587084 0.01369863 0.02935421 0.06066536\n",
      " 0.12328767 0.24853229 0.49902153 1.        ] as a positional argument. Please change your invocation to use keyword arguments. From SciPy 1.14, passing these as positional arguments will result in an error.\n",
      "  area = simpson(distances, normalized_scales)\n"
     ]
    },
    {
     "name": "stdout",
     "output_type": "stream",
     "text": [
      "distance: 2.997589111328125\n",
      "distance: 3.021240234375\n",
      "distance: 3.045654296875\n",
      "distance: 3.3447265625\n",
      "distance: 3.02734375\n",
      "distance: 3.90625\n",
      "distance: 4.6875\n",
      "distance: 12.5\n",
      "distance: 0.0\n",
      "distance: 0.0\n",
      "distances: [tensor(0.0499), tensor(0.0487), tensor(0.0476), tensor(0.0353), tensor(0.0484), tensor(0.0201), tensor(0.0092), tensor(3.7267e-06), tensor(1.), tensor(1.)]\n",
      "mce: 0.709064579223995\n",
      "index: 2\n",
      "mce_gt_mask: 0.7071045879318414\n",
      "------------------------\n"
     ]
    },
    {
     "name": "stderr",
     "output_type": "stream",
     "text": [
      "/tmp/ipykernel_21951/3604676800.py:5: DeprecationWarning: You are passing x=[0.         0.00195695 0.00587084 0.01369863 0.02935421 0.06066536\n",
      " 0.12328767 0.24853229 0.49902153 1.        ] as a positional argument. Please change your invocation to use keyword arguments. From SciPy 1.14, passing these as positional arguments will result in an error.\n",
      "  area = simpson(distances, normalized_scales)\n"
     ]
    },
    {
     "name": "stdout",
     "output_type": "stream",
     "text": [
      "distance: 1.3866424560546875\n",
      "distance: 1.898193359375\n",
      "distance: 3.265380859375\n",
      "distance: 5.2734375\n",
      "distance: 4.58984375\n",
      "distance: 5.859375\n",
      "distance: 9.375\n",
      "distance: 12.5\n",
      "distance: 0.0\n",
      "distance: 0.0\n",
      "distances: [tensor(0.2499), tensor(0.1498), tensor(0.0382), tensor(0.0051), tensor(0.0102), tensor(0.0029), tensor(8.4818e-05), tensor(3.7267e-06), tensor(1.), tensor(1.)]\n",
      "mce: 0.7073098081608831\n",
      "distance: 2.9956817626953125\n",
      "distance: 3.06549072265625\n",
      "distance: 3.363037109375\n",
      "distance: 3.3447265625\n",
      "distance: 3.02734375\n",
      "distance: 3.90625\n",
      "distance: 4.6875\n",
      "distance: 12.5\n",
      "distance: 0.0\n",
      "distance: 0.0\n",
      "distances: [tensor(0.0500), tensor(0.0466), tensor(0.0346), tensor(0.0353), tensor(0.0484), tensor(0.0201), tensor(0.0092), tensor(3.7267e-06), tensor(1.), tensor(1.)]\n",
      "mce: 0.7090363043854503\n",
      "index: 3\n",
      "mce_gt_mask: 0.7073098081608831\n",
      "------------------------\n",
      "distance: 1.665496826171875\n",
      "distance: 2.3193359375\n",
      "distance: 3.1982421875\n",
      "distance: 4.00390625\n",
      "distance: 4.00390625\n",
      "distance: 4.6875\n",
      "distance: 7.8125\n",
      "distance: 12.5\n",
      "distance: 0.0\n",
      "distance: 0.0\n",
      "distances: [tensor(0.1891), tensor(0.0983), tensor(0.0408), tensor(0.0182), tensor(0.0182), tensor(0.0092), tensor(0.0004), tensor(3.7267e-06), tensor(1.), tensor(1.)]\n",
      "mce: 0.7078208150142717\n",
      "distance: 2.05078125\n",
      "distance: 2.0751953125\n",
      "distance: 2.13623046875\n",
      "distance: 2.197265625\n",
      "distance: 2.24609375\n",
      "distance: 1.953125\n",
      "distance: 4.6875\n",
      "distance: 12.5\n",
      "distance: 0.0\n",
      "distance: 0.0\n",
      "distances: [tensor(0.1286), tensor(0.1255), tensor(0.1181), tensor(0.1111), tensor(0.1058), tensor(0.1418), tensor(0.0092), tensor(3.7267e-06), tensor(1.), tensor(1.)]\n",
      "mce: 0.7197534851161415\n",
      "index: 4\n",
      "mce_gt_mask: 0.7078208150142717\n",
      "------------------------\n"
     ]
    },
    {
     "name": "stderr",
     "output_type": "stream",
     "text": [
      "/tmp/ipykernel_21951/3604676800.py:5: DeprecationWarning: You are passing x=[0.         0.00195695 0.00587084 0.01369863 0.02935421 0.06066536\n",
      " 0.12328767 0.24853229 0.49902153 1.        ] as a positional argument. Please change your invocation to use keyword arguments. From SciPy 1.14, passing these as positional arguments will result in an error.\n",
      "  area = simpson(distances, normalized_scales)\n",
      "/tmp/ipykernel_21951/3604676800.py:5: DeprecationWarning: You are passing x=[0.         0.00195695 0.00587084 0.01369863 0.02935421 0.06066536\n",
      " 0.12328767 0.24853229 0.49902153 1.        ] as a positional argument. Please change your invocation to use keyword arguments. From SciPy 1.14, passing these as positional arguments will result in an error.\n",
      "  area = simpson(distances, normalized_scales)\n",
      "/tmp/ipykernel_21951/3604676800.py:5: DeprecationWarning: You are passing x=[0.         0.00195695 0.00587084 0.01369863 0.02935421 0.06066536\n",
      " 0.12328767 0.24853229 0.49902153 1.        ] as a positional argument. Please change your invocation to use keyword arguments. From SciPy 1.14, passing these as positional arguments will result in an error.\n",
      "  area = simpson(distances, normalized_scales)\n",
      "/tmp/ipykernel_21951/3604676800.py:5: DeprecationWarning: You are passing x=[0.         0.00195695 0.00587084 0.01369863 0.02935421 0.06066536\n",
      " 0.12328767 0.24853229 0.49902153 1.        ] as a positional argument. Please change your invocation to use keyword arguments. From SciPy 1.14, passing these as positional arguments will result in an error.\n",
      "  area = simpson(distances, normalized_scales)\n",
      "/tmp/ipykernel_21951/3604676800.py:5: DeprecationWarning: You are passing x=[0.         0.00195695 0.00587084 0.01369863 0.02935421 0.06066536\n",
      " 0.12328767 0.24853229 0.49902153 1.        ] as a positional argument. Please change your invocation to use keyword arguments. From SciPy 1.14, passing these as positional arguments will result in an error.\n",
      "  area = simpson(distances, normalized_scales)\n",
      "/tmp/ipykernel_21951/3604676800.py:5: DeprecationWarning: You are passing x=[0.         0.00195695 0.00587084 0.01369863 0.02935421 0.06066536\n",
      " 0.12328767 0.24853229 0.49902153 1.        ] as a positional argument. Please change your invocation to use keyword arguments. From SciPy 1.14, passing these as positional arguments will result in an error.\n",
      "  area = simpson(distances, normalized_scales)\n"
     ]
    },
    {
     "name": "stdout",
     "output_type": "stream",
     "text": [
      "distance: 1.5743255615234375\n",
      "distance: 2.2735595703125\n",
      "distance: 3.21044921875\n",
      "distance: 3.8330078125\n",
      "distance: 3.90625\n",
      "distance: 4.6875\n",
      "distance: 7.8125\n",
      "distance: 12.5\n",
      "distance: 0.0\n",
      "distance: 0.0\n",
      "distances: [tensor(0.2071), tensor(0.1029), tensor(0.0403), tensor(0.0216), tensor(0.0201), tensor(0.0092), tensor(0.0004), tensor(3.7267e-06), tensor(1.), tensor(1.)]\n",
      "mce: 0.70791124311376\n",
      "distance: 2.0122528076171875\n",
      "distance: 2.04010009765625\n",
      "distance: 2.06298828125\n",
      "distance: 1.9775390625\n",
      "distance: 2.1484375\n",
      "distance: 1.953125\n",
      "distance: 4.6875\n",
      "distance: 12.5\n",
      "distance: 0.0\n",
      "distance: 0.0\n",
      "distances: [tensor(0.1337), tensor(0.1300), tensor(0.1271), tensor(0.1384), tensor(0.1167), tensor(0.1418), tensor(0.0092), tensor(3.7267e-06), tensor(1.), tensor(1.)]\n",
      "mce: 0.7203309978728605\n",
      "index: 5\n",
      "mce_gt_mask: 0.70791124311376\n",
      "------------------------\n",
      "distance: 1.46026611328125\n",
      "distance: 2.19268798828125\n",
      "distance: 3.22265625\n",
      "distance: 3.466796875\n",
      "distance: 3.61328125\n",
      "distance: 4.296875\n",
      "distance: 7.8125\n",
      "distance: 12.5\n",
      "distance: 0.0\n",
      "distance: 0.0\n",
      "distances: [tensor(0.2322), tensor(0.1116), tensor(0.0398), tensor(0.0312), tensor(0.0270), tensor(0.0136), tensor(0.0004), tensor(3.7267e-06), tensor(1.), tensor(1.)]\n",
      "mce: 0.7084675757361323\n",
      "distance: 2.0416259765625\n",
      "distance: 2.056884765625\n",
      "distance: 2.056884765625\n",
      "distance: 1.8798828125\n",
      "distance: 2.1484375\n",
      "distance: 1.953125\n",
      "distance: 4.6875\n",
      "distance: 12.5\n",
      "distance: 0.0\n",
      "distance: 0.0\n",
      "distances: [tensor(0.1298), tensor(0.1279), tensor(0.1279), tensor(0.1526), tensor(0.1167), tensor(0.1418), tensor(0.0092), tensor(3.7267e-06), tensor(1.), tensor(1.)]\n",
      "mce: 0.7205726834513617\n",
      "index: 6\n",
      "mce_gt_mask: 0.7084675757361323\n",
      "------------------------\n",
      "distance: 1.3759613037109375\n",
      "distance: 1.8463134765625\n",
      "distance: 3.070068359375\n",
      "distance: 4.1259765625\n",
      "distance: 4.19921875\n",
      "distance: 5.46875\n",
      "distance: 9.375\n",
      "distance: 12.5\n",
      "distance: 0.0\n",
      "distance: 0.0\n",
      "distances: [tensor(0.2526), tensor(0.1578), tensor(0.0464), tensor(0.0161), tensor(0.0150), tensor(0.0042), tensor(8.4818e-05), tensor(3.7267e-06), tensor(1.), tensor(1.)]\n",
      "mce: 0.7076756955749639\n",
      "distance: 2.0214080810546875\n",
      "distance: 2.08282470703125\n",
      "distance: 2.374267578125\n",
      "distance: 2.34375\n",
      "distance: 2.24609375\n",
      "distance: 1.953125\n"
     ]
    },
    {
     "name": "stderr",
     "output_type": "stream",
     "text": [
      "/tmp/ipykernel_21951/3604676800.py:5: DeprecationWarning: You are passing x=[0.         0.00195695 0.00587084 0.01369863 0.02935421 0.06066536\n",
      " 0.12328767 0.24853229 0.49902153 1.        ] as a positional argument. Please change your invocation to use keyword arguments. From SciPy 1.14, passing these as positional arguments will result in an error.\n",
      "  area = simpson(distances, normalized_scales)\n",
      "/tmp/ipykernel_21951/3604676800.py:5: DeprecationWarning: You are passing x=[0.         0.00195695 0.00587084 0.01369863 0.02935421 0.06066536\n",
      " 0.12328767 0.24853229 0.49902153 1.        ] as a positional argument. Please change your invocation to use keyword arguments. From SciPy 1.14, passing these as positional arguments will result in an error.\n",
      "  area = simpson(distances, normalized_scales)\n",
      "/tmp/ipykernel_21951/3604676800.py:5: DeprecationWarning: You are passing x=[0.         0.00195695 0.00587084 0.01369863 0.02935421 0.06066536\n",
      " 0.12328767 0.24853229 0.49902153 1.        ] as a positional argument. Please change your invocation to use keyword arguments. From SciPy 1.14, passing these as positional arguments will result in an error.\n",
      "  area = simpson(distances, normalized_scales)\n",
      "/tmp/ipykernel_21951/3604676800.py:5: DeprecationWarning: You are passing x=[0.         0.00195695 0.00587084 0.01369863 0.02935421 0.06066536\n",
      " 0.12328767 0.24853229 0.49902153 1.        ] as a positional argument. Please change your invocation to use keyword arguments. From SciPy 1.14, passing these as positional arguments will result in an error.\n",
      "  area = simpson(distances, normalized_scales)\n",
      "/tmp/ipykernel_21951/3604676800.py:5: DeprecationWarning: You are passing x=[0.         0.00195695 0.00587084 0.01369863 0.02935421 0.06066536\n",
      " 0.12328767 0.24853229 0.49902153 1.        ] as a positional argument. Please change your invocation to use keyword arguments. From SciPy 1.14, passing these as positional arguments will result in an error.\n",
      "  area = simpson(distances, normalized_scales)\n",
      "/tmp/ipykernel_21951/3604676800.py:5: DeprecationWarning: You are passing x=[0.         0.00195695 0.00587084 0.01369863 0.02935421 0.06066536\n",
      " 0.12328767 0.24853229 0.49902153 1.        ] as a positional argument. Please change your invocation to use keyword arguments. From SciPy 1.14, passing these as positional arguments will result in an error.\n",
      "  area = simpson(distances, normalized_scales)\n"
     ]
    },
    {
     "name": "stdout",
     "output_type": "stream",
     "text": [
      "distance: 4.6875\n",
      "distance: 12.5\n",
      "distance: 0.0\n",
      "distance: 0.0\n",
      "distances: [tensor(0.1325), tensor(0.1246), tensor(0.0931), tensor(0.0960), tensor(0.1058), tensor(0.1418), tensor(0.0092), tensor(3.7267e-06), tensor(1.), tensor(1.)]\n",
      "mce: 0.7194459228308181\n",
      "index: 7\n",
      "mce_gt_mask: 0.7076756955749639\n",
      "------------------------\n",
      "distance: 1.34429931640625\n",
      "distance: 1.739501953125\n",
      "distance: 2.0751953125\n",
      "distance: 1.7822265625\n",
      "distance: 1.26953125\n",
      "distance: 1.953125\n",
      "distance: 4.6875\n",
      "distance: 12.5\n",
      "distance: 0.0\n",
      "distance: 0.0\n",
      "distances: [tensor(0.2607), tensor(0.1756), tensor(0.1255), tensor(0.1683), tensor(0.2810), tensor(0.1418), tensor(0.0092), tensor(3.7267e-06), tensor(1.), tensor(1.)]\n",
      "mce: 0.7220198428400639\n",
      "distance: 1.06201171875\n",
      "distance: 1.07421875\n",
      "distance: 1.08642578125\n",
      "distance: 0.8544921875\n",
      "distance: 0.68359375\n",
      "distance: 1.5625\n",
      "distance: 4.6875\n",
      "distance: 12.5\n",
      "distance: 0.0\n",
      "distance: 0.0\n",
      "distances: [tensor(0.3458), tensor(0.3416), tensor(0.3374), tensor(0.4255), tensor(0.5048), tensor(0.2096), tensor(0.0092), tensor(3.7267e-06), tensor(1.), tensor(1.)]\n",
      "mce: 0.7336814415140108\n",
      "index: 8\n",
      "mce_gt_mask: 0.7220198428400639\n",
      "------------------------\n",
      "distance: 1.3263702392578125\n",
      "distance: 1.727294921875\n",
      "distance: 2.001953125\n",
      "distance: 1.708984375\n",
      "distance: 1.5625\n",
      "distance: 2.34375\n",
      "distance: 3.125\n",
      "distance: 0.0\n",
      "distance: 0.0\n",
      "distance: 0.0\n",
      "distances: [tensor(0.2654), tensor(0.1778), tensor(0.1351), tensor(0.1810), tensor(0.2096), tensor(0.0960), tensor(0.0439), tensor(1.), tensor(1.), tensor(1.)]\n",
      "mce: 0.8899053079303929\n",
      "distance: 1.0120391845703125\n",
      "distance: 1.02386474609375\n",
      "distance: 1.01318359375\n",
      "distance: 0.8056640625\n",
      "distance: 0.48828125\n",
      "distance: 0.0\n",
      "distance: 0.0\n",
      "distance: 0.0\n",
      "distance: 0.0\n",
      "distance: 0.0\n",
      "distances: [tensor(0.3635), tensor(0.3592), tensor(0.3631), tensor(0.4468), tensor(0.6137), tensor(1.), tensor(1.), tensor(1.), tensor(1.), tensor(1.)]\n",
      "mce: 0.984232223182625\n",
      "index: 9\n",
      "mce_gt_mask: 0.8899053079303929\n",
      "------------------------\n"
     ]
    },
    {
     "name": "stderr",
     "output_type": "stream",
     "text": [
      "/tmp/ipykernel_21951/3604676800.py:5: DeprecationWarning: You are passing x=[0.         0.00195695 0.00587084 0.01369863 0.02935421 0.06066536\n",
      " 0.12328767 0.24853229 0.49902153 1.        ] as a positional argument. Please change your invocation to use keyword arguments. From SciPy 1.14, passing these as positional arguments will result in an error.\n",
      "  area = simpson(distances, normalized_scales)\n",
      "/tmp/ipykernel_21951/3604676800.py:5: DeprecationWarning: You are passing x=[0.         0.00195695 0.00587084 0.01369863 0.02935421 0.06066536\n",
      " 0.12328767 0.24853229 0.49902153 1.        ] as a positional argument. Please change your invocation to use keyword arguments. From SciPy 1.14, passing these as positional arguments will result in an error.\n",
      "  area = simpson(distances, normalized_scales)\n",
      "/tmp/ipykernel_21951/3604676800.py:5: DeprecationWarning: You are passing x=[0.         0.00195695 0.00587084 0.01369863 0.02935421 0.06066536\n",
      " 0.12328767 0.24853229 0.49902153 1.        ] as a positional argument. Please change your invocation to use keyword arguments. From SciPy 1.14, passing these as positional arguments will result in an error.\n",
      "  area = simpson(distances, normalized_scales)\n",
      "/tmp/ipykernel_21951/3604676800.py:5: DeprecationWarning: You are passing x=[0.         0.00195695 0.00587084 0.01369863 0.02935421 0.06066536\n",
      " 0.12328767 0.24853229 0.49902153 1.        ] as a positional argument. Please change your invocation to use keyword arguments. From SciPy 1.14, passing these as positional arguments will result in an error.\n",
      "  area = simpson(distances, normalized_scales)\n"
     ]
    },
    {
     "name": "stdout",
     "output_type": "stream",
     "text": [
      "distance: 1.21307373046875\n",
      "distance: 1.58538818359375\n",
      "distance: 2.0263671875\n",
      "distance: 2.2216796875\n",
      "distance: 2.83203125\n",
      "distance: 2.34375\n",
      "distance: 3.125\n",
      "distance: 0.0\n",
      "distance: 0.0\n",
      "distance: 0.0\n",
      "distances: [tensor(0.2973), tensor(0.2049), tensor(0.1318), tensor(0.1084), tensor(0.0589), tensor(0.0960), tensor(0.0439), tensor(1.), tensor(1.), tensor(1.)]\n",
      "mce: 0.8878559545192817\n",
      "distance: 1.0467529296875\n",
      "distance: 1.0498046875\n",
      "distance: 1.031494140625\n",
      "distance: 1.2451171875\n",
      "distance: 1.46484375\n",
      "distance: 0.0\n",
      "distance: 0.0\n",
      "distance: 0.0\n",
      "distance: 0.0\n",
      "distance: 0.0\n",
      "distances: [tensor(0.3511), tensor(0.3500), tensor(0.3565), tensor(0.2879), tensor(0.2311), tensor(1.), tensor(1.), tensor(1.), tensor(1.), tensor(1.)]\n",
      "mce: 0.9791377218997874\n",
      "index: 10\n",
      "mce_gt_mask: 0.8878559545192817\n",
      "------------------------\n",
      "distance: 1.1402130126953125\n",
      "distance: 1.4404296875\n",
      "distance: 2.154541015625\n",
      "distance: 2.001953125\n",
      "distance: 2.83203125\n",
      "distance: 2.34375\n",
      "distance: 3.125\n",
      "distance: 0.0\n",
      "distance: 0.0\n",
      "distance: 0.0\n",
      "distances: [tensor(0.3198), tensor(0.2368), tensor(0.1160), tensor(0.1351), tensor(0.0589), tensor(0.0960), tensor(0.0439), tensor(1.), tensor(1.), tensor(1.)]\n",
      "mce: 0.8884426697855359\n",
      "distance: 1.0692596435546875\n",
      "distance: 1.11541748046875\n",
      "distance: 1.336669921875\n",
      "distance: 1.2451171875\n",
      "distance: 1.46484375\n",
      "distance: 0.0\n",
      "distance: 0.0\n",
      "distance: 0.0\n",
      "distance: 0.0\n",
      "distance: 0.0\n",
      "distances: [tensor(0.3433), tensor(0.3278), tensor(0.2627), tensor(0.2879), tensor(0.2311), tensor(1.), tensor(1.), tensor(1.), tensor(1.), tensor(1.)]\n",
      "mce: 0.9789022454251981\n",
      "index: 11\n",
      "mce_gt_mask: 0.8884426697855359\n",
      "------------------------\n",
      "distance: 0.0\n",
      "distance: 0.0\n",
      "distance: 0.0\n",
      "distance: 0.0\n",
      "distance: 0.0\n",
      "distance: 0.0\n",
      "distance: 0.0\n",
      "distance: 0.0\n",
      "distance: 0.0\n",
      "distance: 0.0\n",
      "distances: [tensor(1.), tensor(1.), tensor(1.), tensor(1.), tensor(1.), tensor(1.), tensor(1.), tensor(1.), tensor(1.), tensor(1.)]\n",
      "mce: 1.0\n",
      "distance: 0.0\n",
      "distance: 0.0\n",
      "distance: 0.0\n",
      "distance: 0.0\n",
      "distance: 0.0\n",
      "distance: 0.0\n",
      "distance: 0.0\n",
      "distance: 0.0\n",
      "distance: 0.0\n",
      "distance: 0.0\n",
      "distances: [tensor(1.), tensor(1.), tensor(1.), tensor(1.), tensor(1.), tensor(1.), tensor(1.), tensor(1.), tensor(1.), tensor(1.)]\n",
      "mce: 1.0\n",
      "index: 12\n",
      "mce_gt_mask: 1.0\n",
      "------------------------\n",
      "distance: 0.5214691162109375\n",
      "distance: 0.5340576171875\n",
      "distance: 0.54931640625\n",
      "distance: 0.2685546875\n",
      "distance: 0.09765625\n",
      "distance: 0.0\n",
      "distance: 0.0\n",
      "distance: 0.0\n",
      "distance: 0.0\n",
      "distance: 0.0\n",
      "distances: [tensor(0.5936), tensor(0.5862), tensor(0.5773), tensor(0.7645), tensor(0.9070), tensor(1.), tensor(1.), tensor(1.), tensor(1.), tensor(1.)]\n",
      "mce: 0.9928634854037234\n",
      "distance: 0.2597808837890625\n",
      "distance: 0.25482177734375\n",
      "distance: 0.2197265625\n",
      "distance: 0.2197265625\n",
      "distance: 0.0\n",
      "distance: 0.0\n",
      "distance: 0.0\n",
      "distance: 0.0\n"
     ]
    },
    {
     "name": "stderr",
     "output_type": "stream",
     "text": [
      "/tmp/ipykernel_21951/3604676800.py:5: DeprecationWarning: You are passing x=[0.         0.00195695 0.00587084 0.01369863 0.02935421 0.06066536\n",
      " 0.12328767 0.24853229 0.49902153 1.        ] as a positional argument. Please change your invocation to use keyword arguments. From SciPy 1.14, passing these as positional arguments will result in an error.\n",
      "  area = simpson(distances, normalized_scales)\n",
      "/tmp/ipykernel_21951/3604676800.py:5: DeprecationWarning: You are passing x=[0.         0.00195695 0.00587084 0.01369863 0.02935421 0.06066536\n",
      " 0.12328767 0.24853229 0.49902153 1.        ] as a positional argument. Please change your invocation to use keyword arguments. From SciPy 1.14, passing these as positional arguments will result in an error.\n",
      "  area = simpson(distances, normalized_scales)\n",
      "/tmp/ipykernel_21951/3604676800.py:5: DeprecationWarning: You are passing x=[0.         0.00195695 0.00587084 0.01369863 0.02935421 0.06066536\n",
      " 0.12328767 0.24853229 0.49902153 1.        ] as a positional argument. Please change your invocation to use keyword arguments. From SciPy 1.14, passing these as positional arguments will result in an error.\n",
      "  area = simpson(distances, normalized_scales)\n",
      "/tmp/ipykernel_21951/3604676800.py:5: DeprecationWarning: You are passing x=[0.         0.00195695 0.00587084 0.01369863 0.02935421 0.06066536\n",
      " 0.12328767 0.24853229 0.49902153 1.        ] as a positional argument. Please change your invocation to use keyword arguments. From SciPy 1.14, passing these as positional arguments will result in an error.\n",
      "  area = simpson(distances, normalized_scales)\n",
      "/tmp/ipykernel_21951/3604676800.py:5: DeprecationWarning: You are passing x=[0.         0.00195695 0.00587084 0.01369863 0.02935421 0.06066536\n",
      " 0.12328767 0.24853229 0.49902153 1.        ] as a positional argument. Please change your invocation to use keyword arguments. From SciPy 1.14, passing these as positional arguments will result in an error.\n",
      "  area = simpson(distances, normalized_scales)\n"
     ]
    },
    {
     "name": "stdout",
     "output_type": "stream",
     "text": [
      "distance: 0.0\n",
      "distance: 0.0\n",
      "distances: [tensor(0.7712), tensor(0.7751), tensor(0.8027), tensor(0.8027), tensor(1.), tensor(1.), tensor(1.), tensor(1.), tensor(1.), tensor(1.)]\n",
      "mce: 0.9952457355309838\n",
      "index: 13\n",
      "mce_gt_mask: 0.9928634854037234\n",
      "------------------------\n"
     ]
    },
    {
     "name": "stderr",
     "output_type": "stream",
     "text": [
      "/tmp/ipykernel_21951/3604676800.py:5: DeprecationWarning: You are passing x=[0.         0.00195695 0.00587084 0.01369863 0.02935421 0.06066536\n",
      " 0.12328767 0.24853229 0.49902153 1.        ] as a positional argument. Please change your invocation to use keyword arguments. From SciPy 1.14, passing these as positional arguments will result in an error.\n",
      "  area = simpson(distances, normalized_scales)\n"
     ]
    },
    {
     "name": "stdout",
     "output_type": "stream",
     "text": [
      "distance: 0.937652587890625\n",
      "distance: 1.06658935546875\n",
      "distance: 1.08642578125\n",
      "distance: 0.9765625\n",
      "distance: 1.171875\n",
      "distance: 0.0\n",
      "distance: 0.0\n",
      "distance: 0.0\n",
      "distance: 0.0\n",
      "distance: 0.0\n",
      "distances: [tensor(0.3915), tensor(0.3442), tensor(0.3374), tensor(0.3766), tensor(0.3098), tensor(1.), tensor(1.), tensor(1.), tensor(1.), tensor(1.)]\n",
      "mce: 0.981108138735047\n",
      "distance: 0.49591064453125\n",
      "distance: 0.4608154296875\n",
      "distance: 0.433349609375\n",
      "distance: 0.3173828125\n",
      "distance: 0.1953125\n",
      "distance: 0.0\n",
      "distance: 0.0\n",
      "distance: 0.0\n",
      "distance: 0.0\n",
      "distance: 0.0\n",
      "distances: [tensor(0.6090), tensor(0.6308), tensor(0.6483), tensor(0.7281), tensor(0.8226), tensor(1.), tensor(1.), tensor(1.), tensor(1.), tensor(1.)]\n",
      "mce: 0.9920267740632689\n",
      "index: 14\n",
      "mce_gt_mask: 0.981108138735047\n",
      "------------------------\n",
      "distance: 1.0196685791015625\n",
      "distance: 1.28173828125\n",
      "distance: 1.470947265625\n",
      "distance: 1.6845703125\n",
      "distance: 2.44140625\n",
      "distance: 2.34375\n",
      "distance: 3.125\n",
      "distance: 0.0\n",
      "distance: 0.0\n",
      "distance: 0.0\n",
      "distances: [tensor(0.3607), tensor(0.2776), tensor(0.2297), tensor(0.1855), tensor(0.0870), tensor(0.0960), tensor(0.0439), tensor(1.), tensor(1.), tensor(1.)]\n",
      "mce: 0.8898427962104984\n",
      "distance: 0.6626129150390625\n",
      "distance: 0.66375732421875\n",
      "distance: 0.604248046875\n",
      "distance: 0.439453125\n",
      "distance: 0.0\n",
      "distance: 0.0\n",
      "distance: 0.0\n",
      "distance: 0.0\n",
      "distance: 0.0\n",
      "distance: 0.0\n",
      "distances: [tensor(0.5155), tensor(0.5149), tensor(0.5465), tensor(0.6444), tensor(1.), tensor(1.), tensor(1.), tensor(1.), tensor(1.), tensor(1.)]\n",
      "mce: 0.9909352579403763\n",
      "index: 15\n",
      "mce_gt_mask: 0.8898427962104984\n",
      "------------------------\n"
     ]
    },
    {
     "name": "stderr",
     "output_type": "stream",
     "text": [
      "/tmp/ipykernel_21951/3604676800.py:5: DeprecationWarning: You are passing x=[0.         0.00195695 0.00587084 0.01369863 0.02935421 0.06066536\n",
      " 0.12328767 0.24853229 0.49902153 1.        ] as a positional argument. Please change your invocation to use keyword arguments. From SciPy 1.14, passing these as positional arguments will result in an error.\n",
      "  area = simpson(distances, normalized_scales)\n",
      "/tmp/ipykernel_21951/3604676800.py:5: DeprecationWarning: You are passing x=[0.         0.00195695 0.00587084 0.01369863 0.02935421 0.06066536\n",
      " 0.12328767 0.24853229 0.49902153 1.        ] as a positional argument. Please change your invocation to use keyword arguments. From SciPy 1.14, passing these as positional arguments will result in an error.\n",
      "  area = simpson(distances, normalized_scales)\n",
      "/tmp/ipykernel_21951/3604676800.py:5: DeprecationWarning: You are passing x=[0.         0.00195695 0.00587084 0.01369863 0.02935421 0.06066536\n",
      " 0.12328767 0.24853229 0.49902153 1.        ] as a positional argument. Please change your invocation to use keyword arguments. From SciPy 1.14, passing these as positional arguments will result in an error.\n",
      "  area = simpson(distances, normalized_scales)\n",
      "/tmp/ipykernel_21951/3604676800.py:5: DeprecationWarning: You are passing x=[0.         0.00195695 0.00587084 0.01369863 0.02935421 0.06066536\n",
      " 0.12328767 0.24853229 0.49902153 1.        ] as a positional argument. Please change your invocation to use keyword arguments. From SciPy 1.14, passing these as positional arguments will result in an error.\n",
      "  area = simpson(distances, normalized_scales)\n"
     ]
    },
    {
     "name": "stdout",
     "output_type": "stream",
     "text": [
      "distance: 1.4423370361328125\n",
      "distance: 1.88446044921875\n",
      "distance: 2.197265625\n",
      "distance: 2.4658203125\n",
      "distance: 2.9296875\n",
      "distance: 1.953125\n",
      "distance: 4.6875\n",
      "distance: 12.5\n",
      "distance: 0.0\n",
      "distance: 0.0\n",
      "distances: [tensor(0.2364), tensor(0.1519), tensor(0.1111), tensor(0.0849), tensor(0.0534), tensor(0.1418), tensor(0.0092), tensor(3.7267e-06), tensor(1.), tensor(1.)]\n",
      "mce: 0.719090877867772\n",
      "distance: 1.1016845703125\n",
      "distance: 1.12762451171875\n",
      "distance: 1.153564453125\n",
      "distance: 1.3427734375\n",
      "distance: 1.3671875\n",
      "distance: 1.953125\n",
      "distance: 4.6875\n",
      "distance: 12.5\n",
      "distance: 0.0\n",
      "distance: 0.0\n",
      "distances: [tensor(0.3323), tensor(0.3238), tensor(0.3155), tensor(0.2611), tensor(0.2548), tensor(0.1418), tensor(0.0092), tensor(3.7267e-06), tensor(1.), tensor(1.)]\n",
      "mce: 0.7244331774384022\n",
      "index: 16\n",
      "mce_gt_mask: 0.719090877867772\n",
      "------------------------\n",
      "distance: 1.3519287109375\n",
      "distance: 1.8096923828125\n",
      "distance: 2.20947265625\n",
      "distance: 2.44140625\n",
      "distance: 2.83203125\n",
      "distance: 1.953125\n",
      "distance: 4.6875\n",
      "distance: 12.5\n",
      "distance: 0.0\n",
      "distance: 0.0\n",
      "distances: [tensor(0.2587), tensor(0.1637), tensor(0.1098), tensor(0.0870), tensor(0.0589), tensor(0.1418), tensor(0.0092), tensor(3.7267e-06), tensor(1.), tensor(1.)]\n",
      "mce: 0.7192099688994038\n",
      "distance: 1.1089324951171875\n",
      "distance: 1.0894775390625\n",
      "distance: 1.031494140625\n",
      "distance: 1.123046875\n",
      "distance: 1.171875\n",
      "distance: 1.171875\n",
      "distance: 3.125\n",
      "distance: 12.5\n",
      "distance: 0.0\n",
      "distance: 0.0\n",
      "distances: [tensor(0.3299), tensor(0.3364), tensor(0.3565), tensor(0.3253), tensor(0.3098), tensor(0.3098), tensor(0.0439), tensor(3.7267e-06), tensor(1.), tensor(1.)]\n",
      "mce: 0.7386495408101038\n",
      "index: 17\n",
      "mce_gt_mask: 0.7192099688994038\n",
      "------------------------\n",
      "distance: 1.25885009765625\n",
      "distance: 1.71356201171875\n",
      "distance: 2.20947265625\n",
      "distance: 2.2705078125\n",
      "distance: 3.3203125\n",
      "distance: 2.34375\n",
      "distance: 3.125\n",
      "distance: 0.0\n",
      "distance: 0.0\n",
      "distance: 0.0\n",
      "distances: [tensor(0.2840), tensor(0.1802), tensor(0.1098), tensor(0.1033), tensor(0.0361), tensor(0.0960), tensor(0.0439), tensor(1.), tensor(1.), tensor(1.)]\n",
      "mce: 0.887490489893755\n",
      "distance: 1.1569976806640625\n",
      "distance: 1.141357421875\n",
      "distance: 1.01318359375\n",
      "distance: 0.7080078125\n",
      "distance: 0.78125\n",
      "distance: 0.0\n",
      "distance: 0.0\n",
      "distance: 0.0\n",
      "distance: 0.0\n",
      "distance: 0.0\n",
      "distances: [tensor(0.3144), tensor(0.3194), tensor(0.3631), tensor(0.4926), tensor(0.4578), tensor(1.), tensor(1.), tensor(1.), tensor(1.), tensor(1.)]\n"
     ]
    },
    {
     "name": "stderr",
     "output_type": "stream",
     "text": [
      "/tmp/ipykernel_21951/3604676800.py:5: DeprecationWarning: You are passing x=[0.         0.00195695 0.00587084 0.01369863 0.02935421 0.06066536\n",
      " 0.12328767 0.24853229 0.49902153 1.        ] as a positional argument. Please change your invocation to use keyword arguments. From SciPy 1.14, passing these as positional arguments will result in an error.\n",
      "  area = simpson(distances, normalized_scales)\n",
      "/tmp/ipykernel_21951/3604676800.py:5: DeprecationWarning: You are passing x=[0.         0.00195695 0.00587084 0.01369863 0.02935421 0.06066536\n",
      " 0.12328767 0.24853229 0.49902153 1.        ] as a positional argument. Please change your invocation to use keyword arguments. From SciPy 1.14, passing these as positional arguments will result in an error.\n",
      "  area = simpson(distances, normalized_scales)\n",
      "/tmp/ipykernel_21951/3604676800.py:5: DeprecationWarning: You are passing x=[0.         0.00195695 0.00587084 0.01369863 0.02935421 0.06066536\n",
      " 0.12328767 0.24853229 0.49902153 1.        ] as a positional argument. Please change your invocation to use keyword arguments. From SciPy 1.14, passing these as positional arguments will result in an error.\n",
      "  area = simpson(distances, normalized_scales)\n",
      "/tmp/ipykernel_21951/3604676800.py:5: DeprecationWarning: You are passing x=[0.         0.00195695 0.00587084 0.01369863 0.02935421 0.06066536\n",
      " 0.12328767 0.24853229 0.49902153 1.        ] as a positional argument. Please change your invocation to use keyword arguments. From SciPy 1.14, passing these as positional arguments will result in an error.\n",
      "  area = simpson(distances, normalized_scales)\n",
      "/tmp/ipykernel_21951/3604676800.py:5: DeprecationWarning: You are passing x=[0.         0.00195695 0.00587084 0.01369863 0.02935421 0.06066536\n",
      " 0.12328767 0.24853229 0.49902153 1.        ] as a positional argument. Please change your invocation to use keyword arguments. From SciPy 1.14, passing these as positional arguments will result in an error.\n",
      "  area = simpson(distances, normalized_scales)\n",
      "/tmp/ipykernel_21951/3604676800.py:5: DeprecationWarning: You are passing x=[0.         0.00195695 0.00587084 0.01369863 0.02935421 0.06066536\n",
      " 0.12328767 0.24853229 0.49902153 1.        ] as a positional argument. Please change your invocation to use keyword arguments. From SciPy 1.14, passing these as positional arguments will result in an error.\n",
      "  area = simpson(distances, normalized_scales)\n"
     ]
    },
    {
     "name": "stdout",
     "output_type": "stream",
     "text": [
      "mce: 0.9839491865318815\n",
      "index: 18\n",
      "mce_gt_mask: 0.887490489893755\n",
      "------------------------\n",
      "distance: 1.2821197509765625\n",
      "distance: 1.8707275390625\n",
      "distance: 2.490234375\n",
      "distance: 3.173828125\n",
      "distance: 4.00390625\n",
      "distance: 2.34375\n",
      "distance: 3.125\n",
      "distance: 0.0\n",
      "distance: 0.0\n",
      "distance: 0.0\n",
      "distances: [tensor(0.2774), tensor(0.1540), tensor(0.0829), tensor(0.0418), tensor(0.0182), tensor(0.0960), tensor(0.0439), tensor(1.), tensor(1.), tensor(1.)]\n",
      "mce: 0.8861488705854534\n",
      "distance: 1.497650146484375\n",
      "distance: 1.4129638671875\n",
      "distance: 1.0986328125\n",
      "distance: 0.830078125\n",
      "distance: 0.87890625\n",
      "distance: 0.0\n",
      "distance: 0.0\n",
      "distance: 0.0\n",
      "distance: 0.0\n",
      "distance: 0.0\n",
      "distances: [tensor(0.2237), tensor(0.2434), tensor(0.3333), tensor(0.4360), tensor(0.4152), tensor(1.), tensor(1.), tensor(1.), tensor(1.), tensor(1.)]\n",
      "mce: 0.9823239511006499\n",
      "index: 19\n",
      "mce_gt_mask: 0.8861488705854534\n",
      "------------------------\n",
      "distance: 1.6815185546875\n",
      "distance: 2.392578125\n",
      "distance: 3.50341796875\n",
      "distance: 4.638671875\n",
      "distance: 4.4921875\n",
      "distance: 1.953125\n",
      "distance: 4.6875\n",
      "distance: 12.5\n",
      "distance: 0.0\n",
      "distance: 0.0\n",
      "distances: [tensor(0.1861), tensor(0.0914), tensor(0.0301), tensor(0.0097), tensor(0.0112), tensor(0.1418), tensor(0.0092), tensor(3.7267e-06), tensor(1.), tensor(1.)]\n",
      "mce: 0.7171319870488013\n",
      "distance: 2.1953582763671875\n",
      "distance: 2.2369384765625\n",
      "distance: 2.25830078125\n",
      "distance: 2.5146484375\n",
      "distance: 1.7578125\n",
      "distance: 1.953125\n",
      "distance: 4.6875\n",
      "distance: 12.5\n",
      "distance: 0.0\n",
      "distance: 0.0\n",
      "distances: [tensor(0.1113), tensor(0.1068), tensor(0.1045), tensor(0.0809), tensor(0.1724), tensor(0.1418), tensor(0.0092), tensor(3.7267e-06), tensor(1.), tensor(1.)]\n",
      "mce: 0.7195099110669708\n",
      "index: 20\n",
      "mce_gt_mask: 0.7171319870488013\n",
      "------------------------\n"
     ]
    },
    {
     "name": "stderr",
     "output_type": "stream",
     "text": [
      "/tmp/ipykernel_21951/3604676800.py:5: DeprecationWarning: You are passing x=[0.         0.00195695 0.00587084 0.01369863 0.02935421 0.06066536\n",
      " 0.12328767 0.24853229 0.49902153 1.        ] as a positional argument. Please change your invocation to use keyword arguments. From SciPy 1.14, passing these as positional arguments will result in an error.\n",
      "  area = simpson(distances, normalized_scales)\n",
      "/tmp/ipykernel_21951/3604676800.py:5: DeprecationWarning: You are passing x=[0.         0.00195695 0.00587084 0.01369863 0.02935421 0.06066536\n",
      " 0.12328767 0.24853229 0.49902153 1.        ] as a positional argument. Please change your invocation to use keyword arguments. From SciPy 1.14, passing these as positional arguments will result in an error.\n",
      "  area = simpson(distances, normalized_scales)\n",
      "/tmp/ipykernel_21951/3604676800.py:5: DeprecationWarning: You are passing x=[0.         0.00195695 0.00587084 0.01369863 0.02935421 0.06066536\n",
      " 0.12328767 0.24853229 0.49902153 1.        ] as a positional argument. Please change your invocation to use keyword arguments. From SciPy 1.14, passing these as positional arguments will result in an error.\n",
      "  area = simpson(distances, normalized_scales)\n",
      "/tmp/ipykernel_21951/3604676800.py:5: DeprecationWarning: You are passing x=[0.         0.00195695 0.00587084 0.01369863 0.02935421 0.06066536\n",
      " 0.12328767 0.24853229 0.49902153 1.        ] as a positional argument. Please change your invocation to use keyword arguments. From SciPy 1.14, passing these as positional arguments will result in an error.\n",
      "  area = simpson(distances, normalized_scales)\n",
      "/tmp/ipykernel_21951/3604676800.py:5: DeprecationWarning: You are passing x=[0.         0.00195695 0.00587084 0.01369863 0.02935421 0.06066536\n",
      " 0.12328767 0.24853229 0.49902153 1.        ] as a positional argument. Please change your invocation to use keyword arguments. From SciPy 1.14, passing these as positional arguments will result in an error.\n",
      "  area = simpson(distances, normalized_scales)\n",
      "/tmp/ipykernel_21951/3604676800.py:5: DeprecationWarning: You are passing x=[0.         0.00195695 0.00587084 0.01369863 0.02935421 0.06066536\n",
      " 0.12328767 0.24853229 0.49902153 1.        ] as a positional argument. Please change your invocation to use keyword arguments. From SciPy 1.14, passing these as positional arguments will result in an error.\n",
      "  area = simpson(distances, normalized_scales)\n"
     ]
    },
    {
     "name": "stdout",
     "output_type": "stream",
     "text": [
      "distance: 1.5964508056640625\n",
      "distance: 2.2796630859375\n",
      "distance: 3.43017578125\n",
      "distance: 4.58984375\n",
      "distance: 5.17578125\n",
      "distance: 4.296875\n",
      "distance: 7.8125\n",
      "distance: 12.5\n",
      "distance: 0.0\n",
      "distance: 0.0\n",
      "distances: [tensor(0.2026), tensor(0.1023), tensor(0.0324), tensor(0.0102), tensor(0.0057), tensor(0.0136), tensor(0.0004), tensor(3.7267e-06), tensor(1.), tensor(1.)]\n",
      "mce: 0.7079195980258911\n",
      "distance: 2.2064208984375\n",
      "distance: 2.2064208984375\n",
      "distance: 2.1484375\n",
      "distance: 2.1240234375\n",
      "distance: 1.7578125\n",
      "distance: 1.953125\n",
      "distance: 4.6875\n",
      "distance: 12.5\n",
      "distance: 0.0\n",
      "distance: 0.0\n",
      "distances: [tensor(0.1101), tensor(0.1101), tensor(0.1167), tensor(0.1195), tensor(0.1724), tensor(0.1418), tensor(0.0092), tensor(3.7267e-06), tensor(1.), tensor(1.)]\n",
      "mce: 0.720223167318497\n",
      "index: 21\n",
      "mce_gt_mask: 0.7079195980258911\n",
      "------------------------\n",
      "distance: 1.4652252197265625\n",
      "distance: 2.09503173828125\n",
      "distance: 3.179931640625\n",
      "distance: 4.638671875\n",
      "distance: 5.56640625\n",
      "distance: 5.46875\n",
      "distance: 9.375\n",
      "distance: 12.5\n",
      "distance: 0.0\n",
      "distance: 0.0\n",
      "distances: [tensor(0.2310), tensor(0.1231), tensor(0.0416), tensor(0.0097), tensor(0.0038), tensor(0.0042), tensor(8.4818e-05), tensor(3.7267e-06), tensor(1.), tensor(1.)]\n",
      "mce: 0.7073358578310431\n",
      "distance: 2.2144317626953125\n",
      "distance: 2.1942138671875\n",
      "distance: 2.197265625\n",
      "distance: 2.001953125\n",
      "distance: 1.7578125\n",
      "distance: 1.953125\n",
      "distance: 4.6875\n",
      "distance: 12.5\n",
      "distance: 0.0\n",
      "distance: 0.0\n",
      "distances: [tensor(0.1092), tensor(0.1114), tensor(0.1111), tensor(0.1351), tensor(0.1724), tensor(0.1418), tensor(0.0092), tensor(3.7267e-06), tensor(1.), tensor(1.)]\n",
      "mce: 0.7204943347460026\n",
      "index: 22\n",
      "mce_gt_mask: 0.7073358578310431\n",
      "------------------------\n",
      "distance: 1.4446258544921875\n",
      "distance: 2.09197998046875\n",
      "distance: 3.25927734375\n",
      "distance: 4.931640625\n",
      "distance: 5.56640625\n",
      "distance: 5.46875\n",
      "distance: 9.375\n",
      "distance: 12.5\n",
      "distance: 0.0\n",
      "distance: 0.0\n",
      "distances: [tensor(0.2358), tensor(0.1234), tensor(0.0384), tensor(0.0072), tensor(0.0038), tensor(0.0042), tensor(8.4818e-05), tensor(3.7267e-06), tensor(1.), tensor(1.)]\n",
      "mce: 0.7072896037719218\n"
     ]
    },
    {
     "name": "stderr",
     "output_type": "stream",
     "text": [
      "/tmp/ipykernel_21951/3604676800.py:5: DeprecationWarning: You are passing x=[0.         0.00195695 0.00587084 0.01369863 0.02935421 0.06066536\n",
      " 0.12328767 0.24853229 0.49902153 1.        ] as a positional argument. Please change your invocation to use keyword arguments. From SciPy 1.14, passing these as positional arguments will result in an error.\n",
      "  area = simpson(distances, normalized_scales)\n",
      "/tmp/ipykernel_21951/3604676800.py:5: DeprecationWarning: You are passing x=[0.         0.00195695 0.00587084 0.01369863 0.02935421 0.06066536\n",
      " 0.12328767 0.24853229 0.49902153 1.        ] as a positional argument. Please change your invocation to use keyword arguments. From SciPy 1.14, passing these as positional arguments will result in an error.\n",
      "  area = simpson(distances, normalized_scales)\n",
      "/tmp/ipykernel_21951/3604676800.py:5: DeprecationWarning: You are passing x=[0.         0.00195695 0.00587084 0.01369863 0.02935421 0.06066536\n",
      " 0.12328767 0.24853229 0.49902153 1.        ] as a positional argument. Please change your invocation to use keyword arguments. From SciPy 1.14, passing these as positional arguments will result in an error.\n",
      "  area = simpson(distances, normalized_scales)\n",
      "/tmp/ipykernel_21951/3604676800.py:5: DeprecationWarning: You are passing x=[0.         0.00195695 0.00587084 0.01369863 0.02935421 0.06066536\n",
      " 0.12328767 0.24853229 0.49902153 1.        ] as a positional argument. Please change your invocation to use keyword arguments. From SciPy 1.14, passing these as positional arguments will result in an error.\n",
      "  area = simpson(distances, normalized_scales)\n",
      "/tmp/ipykernel_21951/3604676800.py:5: DeprecationWarning: You are passing x=[0.         0.00195695 0.00587084 0.01369863 0.02935421 0.06066536\n",
      " 0.12328767 0.24853229 0.49902153 1.        ] as a positional argument. Please change your invocation to use keyword arguments. From SciPy 1.14, passing these as positional arguments will result in an error.\n",
      "  area = simpson(distances, normalized_scales)\n"
     ]
    },
    {
     "name": "stdout",
     "output_type": "stream",
     "text": [
      "distance: 2.61383056640625\n",
      "distance: 2.55279541015625\n",
      "distance: 2.410888671875\n",
      "distance: 2.001953125\n",
      "distance: 1.7578125\n",
      "distance: 1.953125\n",
      "distance: 4.6875\n",
      "distance: 12.5\n",
      "distance: 0.0\n",
      "distance: 0.0\n",
      "distances: [tensor(0.0733), tensor(0.0779), tensor(0.0897), tensor(0.1351), tensor(0.1724), tensor(0.1418), tensor(0.0092), tensor(3.7267e-06), tensor(1.), tensor(1.)]\n",
      "mce: 0.7203151003605412\n",
      "index: 23\n",
      "mce_gt_mask: 0.7072896037719218\n",
      "------------------------\n",
      "distance: 1.82342529296875\n",
      "distance: 2.67333984375\n",
      "distance: 4.119873046875\n",
      "distance: 6.201171875\n",
      "distance: 7.6171875\n",
      "distance: 11.328125\n",
      "distance: 23.4375\n",
      "distance: 25.0\n",
      "distance: 0.0\n",
      "distance: 0.0\n",
      "distances: [tensor(0.1615), tensor(0.0690), tensor(0.0162), tensor(0.0020), tensor(0.0005), tensor(1.2030e-05), tensor(6.6256e-11), tensor(1.3888e-11), tensor(1.), tensor(1.)]\n",
      "mce: 0.7066076793061589\n",
      "distance: 3.4076690673828125\n",
      "distance: 3.4454345703125\n",
      "distance: 3.5400390625\n",
      "distance: 3.7841796875\n",
      "distance: 3.22265625\n",
      "distance: 7.8125\n",
      "distance: 18.75\n",
      "distance: 25.0\n",
      "distance: 0.0\n",
      "distance: 0.0\n",
      "distances: [tensor(0.0331), tensor(0.0319), tensor(0.0290), tensor(0.0227), tensor(0.0398), tensor(0.0004), tensor(7.1941e-09), tensor(1.3888e-11), tensor(1.), tensor(1.)]\n",
      "mce: 0.7070862320281536\n",
      "index: 24\n",
      "mce_gt_mask: 0.7066076793061589\n",
      "------------------------\n",
      "distance: 1.7108917236328125\n",
      "distance: 2.5421142578125\n",
      "distance: 3.9794921875\n",
      "distance: 6.15234375\n",
      "distance: 7.03125\n",
      "distance: 11.328125\n",
      "distance: 23.4375\n",
      "distance: 25.0\n",
      "distance: 0.0\n",
      "distance: 0.0\n",
      "distances: [tensor(0.1807), tensor(0.0787), tensor(0.0187), tensor(0.0021), tensor(0.0009), tensor(1.2030e-05), tensor(6.6256e-11), tensor(1.3888e-11), tensor(1.), tensor(1.)]\n",
      "mce: 0.7066579761313243\n",
      "distance: 3.4374237060546875\n",
      "distance: 3.44085693359375\n",
      "distance: 3.3935546875\n"
     ]
    },
    {
     "name": "stderr",
     "output_type": "stream",
     "text": [
      "/tmp/ipykernel_21951/3604676800.py:5: DeprecationWarning: You are passing x=[0.         0.00195695 0.00587084 0.01369863 0.02935421 0.06066536\n",
      " 0.12328767 0.24853229 0.49902153 1.        ] as a positional argument. Please change your invocation to use keyword arguments. From SciPy 1.14, passing these as positional arguments will result in an error.\n",
      "  area = simpson(distances, normalized_scales)\n",
      "/tmp/ipykernel_21951/3604676800.py:5: DeprecationWarning: You are passing x=[0.         0.00195695 0.00587084 0.01369863 0.02935421 0.06066536\n",
      " 0.12328767 0.24853229 0.49902153 1.        ] as a positional argument. Please change your invocation to use keyword arguments. From SciPy 1.14, passing these as positional arguments will result in an error.\n",
      "  area = simpson(distances, normalized_scales)\n",
      "/tmp/ipykernel_21951/3604676800.py:5: DeprecationWarning: You are passing x=[0.         0.00195695 0.00587084 0.01369863 0.02935421 0.06066536\n",
      " 0.12328767 0.24853229 0.49902153 1.        ] as a positional argument. Please change your invocation to use keyword arguments. From SciPy 1.14, passing these as positional arguments will result in an error.\n",
      "  area = simpson(distances, normalized_scales)\n",
      "/tmp/ipykernel_21951/3604676800.py:5: DeprecationWarning: You are passing x=[0.         0.00195695 0.00587084 0.01369863 0.02935421 0.06066536\n",
      " 0.12328767 0.24853229 0.49902153 1.        ] as a positional argument. Please change your invocation to use keyword arguments. From SciPy 1.14, passing these as positional arguments will result in an error.\n",
      "  area = simpson(distances, normalized_scales)\n",
      "/tmp/ipykernel_21951/3604676800.py:5: DeprecationWarning: You are passing x=[0.         0.00195695 0.00587084 0.01369863 0.02935421 0.06066536\n",
      " 0.12328767 0.24853229 0.49902153 1.        ] as a positional argument. Please change your invocation to use keyword arguments. From SciPy 1.14, passing these as positional arguments will result in an error.\n",
      "  area = simpson(distances, normalized_scales)\n"
     ]
    },
    {
     "name": "stdout",
     "output_type": "stream",
     "text": [
      "distance: 3.2958984375\n",
      "distance: 1.953125\n",
      "distance: 2.734375\n",
      "distance: 6.25\n",
      "distance: 18.75\n",
      "distance: 0.0\n",
      "distance: 0.0\n",
      "distances: [tensor(0.0321), tensor(0.0320), tensor(0.0336), tensor(0.0370), tensor(0.1418), tensor(0.0649), tensor(0.0019), tensor(7.1941e-09), tensor(1.), tensor(1.)]\n",
      "mce: 0.7125357705412483\n",
      "index: 25\n",
      "mce_gt_mask: 0.7066579761313243\n",
      "------------------------\n",
      "distance: 1.5583038330078125\n",
      "distance: 2.3468017578125\n",
      "distance: 3.82080078125\n",
      "distance: 5.4443359375\n",
      "distance: 5.56640625\n",
      "distance: 5.46875\n",
      "distance: 9.375\n",
      "distance: 12.5\n",
      "distance: 0.0\n",
      "distance: 0.0\n",
      "distances: [tensor(0.2105), tensor(0.0957), tensor(0.0219), tensor(0.0043), tensor(0.0038), tensor(0.0042), tensor(8.4818e-05), tensor(3.7267e-06), tensor(1.), tensor(1.)]\n",
      "mce: 0.7070921428122582\n",
      "distance: 3.4519195556640625\n",
      "distance: 3.4088134765625\n",
      "distance: 3.326416015625\n",
      "distance: 3.173828125\n",
      "distance: 1.7578125\n",
      "distance: 1.953125\n",
      "distance: 4.6875\n",
      "distance: 12.5\n",
      "distance: 0.0\n",
      "distance: 0.0\n",
      "distances: [tensor(0.0317), tensor(0.0331), tensor(0.0359), tensor(0.0418), tensor(0.1724), tensor(0.1418), tensor(0.0092), tensor(3.7267e-06), tensor(1.), tensor(1.)]\n",
      "mce: 0.7183969481744475\n",
      "index: 26\n",
      "mce_gt_mask: 0.7070921428122582\n",
      "------------------------\n",
      "distance: 1.4804840087890625\n",
      "distance: 2.32086181640625\n",
      "distance: 3.5400390625\n",
      "distance: 5.9326171875\n",
      "distance: 5.56640625\n",
      "distance: 5.46875\n",
      "distance: 9.375\n",
      "distance: 12.5\n",
      "distance: 0.0\n",
      "distance: 0.0\n",
      "distances: [tensor(0.2275), tensor(0.0982), tensor(0.0290), tensor(0.0027), tensor(0.0038), tensor(0.0042), tensor(8.4818e-05), tensor(3.7267e-06), tensor(1.), tensor(1.)]\n",
      "mce: 0.7070842386707329\n",
      "distance: 3.8623809814453125\n",
      "distance: 3.7567138671875\n",
      "distance: 3.8330078125\n",
      "distance: 3.662109375\n",
      "distance: 1.7578125\n",
      "distance: 1.953125\n",
      "distance: 4.6875\n",
      "distance: 12.5\n",
      "distance: 0.0\n",
      "distance: 0.0\n",
      "distances: [tensor(0.0210), tensor(0.0234), tensor(0.0216), tensor(0.0257), tensor(0.1724), tensor(0.1418), tensor(0.0092), tensor(3.7267e-06), tensor(1.), tensor(1.)]\n",
      "mce: 0.7180484914556399\n",
      "index: 27\n",
      "mce_gt_mask: 0.7070842386707329\n",
      "------------------------\n"
     ]
    },
    {
     "name": "stderr",
     "output_type": "stream",
     "text": [
      "/tmp/ipykernel_21951/3604676800.py:5: DeprecationWarning: You are passing x=[0.         0.00195695 0.00587084 0.01369863 0.02935421 0.06066536\n",
      " 0.12328767 0.24853229 0.49902153 1.        ] as a positional argument. Please change your invocation to use keyword arguments. From SciPy 1.14, passing these as positional arguments will result in an error.\n",
      "  area = simpson(distances, normalized_scales)\n",
      "/tmp/ipykernel_21951/3604676800.py:5: DeprecationWarning: You are passing x=[0.         0.00195695 0.00587084 0.01369863 0.02935421 0.06066536\n",
      " 0.12328767 0.24853229 0.49902153 1.        ] as a positional argument. Please change your invocation to use keyword arguments. From SciPy 1.14, passing these as positional arguments will result in an error.\n",
      "  area = simpson(distances, normalized_scales)\n"
     ]
    }
   ],
   "source": [
    "mce = []\n",
    "mce_no_edge = []\n",
    "ious = []\n",
    "miou = []\n",
    "iou = IoU()\n",
    "for i, mask in enumerate(all_masks):\n",
    "    mce_gt_mask = MCE(gt, mask)\n",
    "    mce.append(mce_gt_mask)\n",
    "    mce_gt_mask_no_edges = MCE(gt, mask, detect_edges=False)\n",
    "    mce_no_edge.append(mce_gt_mask_no_edges)\n",
    "    print(f'index: {i}')\n",
    "    print(f'mce_gt_mask: {mce_gt_mask}')\n",
    "    # print(f'mce_gt_mask: {mce_gt_mask_no_edges}')\n",
    "    print('------------------------')\n",
    "    ious.append(iou.measure(gt, mask))\n",
    "    miou.append(miou_obj.measure(gt, mask))\n",
    "measures_list=[ious, miou, mce]"
   ]
  },
  {
   "cell_type": "code",
   "execution_count": 51,
   "id": "b6432b78-65e8-49f3-a908-86555389ff41",
   "metadata": {},
   "outputs": [
    {
     "data": {
      "image/png": "[encoded data removed]",
      "text/plain": [
       "<Figure size 1500x400 with 1 Axes>"
      ]
     },
     "metadata": {},
     "output_type": "display_data"
    }
   ],
   "source": [
    "x = np.arange(0, len(all_masks), dtype=int)\n",
    "areas_c = list(1 - np.array(miou))\n",
    "areas_c = miou\n",
    "plots = []\n",
    "colors = ['green', 'slateblue', 'crimson', 'slateblue', 'crimson']\n",
    "legend_labels = ['IoU', 'MIoU','MCE']\n",
    "labels = ['{}-{}'.format(i,j) for i in range(1, n_rows+1) for j in range(1,n_cols+1)]\n",
    "markers = ['+', 'o', 'x', '1', 's']\n",
    "linestyles = ['solid', 'dotted', 'dotted', 'solid', 'solid']\n",
    "\n",
    "ymin = -0.1\n",
    "ymax = max([max(measures) for measures in measures_list])\n",
    "\n",
    "fig, ax = plt.subplots(figsize=(15, 4))\n",
    "for i, measures in enumerate(measures_list):\n",
    "    plots.append(plt.plot(x, measures,\n",
    "                          color=colors[i], linestyle=linestyles[i], linewidth=1.5,\n",
    "                          marker=markers[i], markersize=8,  label=legend_labels[i]))    \n",
    "\n",
    "ax.set_xticks(x)\n",
    "ax.set_xticklabels(labels, rotation=45, fontsize=14)\n",
    "ax.yaxis.set_tick_params(labelsize=14)\n",
    "plt.grid(axis='y', which='both', color='lightgray', linestyle='--', linewidth=1)\n",
    "plt.ylim(ymin, ymax + 0.1)\n",
    "plt.vlines(ref_idx, ymin=ymin, ymax=ymax + 0.1, colors='orange', linestyles='--', label='GT')\n",
    "plt.vlines(x[::4]-0.5, ymin=ymin, ymax=ymax, colors='gray', linestyles='solid', lw=0.4)\n",
    "plt.hlines(y=0.0, xmin=-0.5, xmax=len(all_masks), colors='gray', linestyles=':', lw=0.4)\n",
    "plt.hlines(y=1.0, xmin=-0.5, xmax=len(all_masks), colors='gray', linestyles=':', lw=0.4)\n",
    "plt.title(\"Comparison of Metrics's Sensitivity\", fontsize=18)\n",
    "plt.xlabel('Comparison Pair', fontsize=16)\n",
    "plt.ylabel('Score', fontsize=16)\n",
    "\n",
    "\n",
    "for i in np.arange(len(all_masks)):\n",
    "    ax.annotate(np.round(areas_c[i], 2), (x[i]-0.2, areas_c[i] - 0.15), color='gray', rotation=45)\n",
    "\n",
    "plt.legend(legend_labels, fontsize=12)\n",
    "plt.show()"
   ]
  },
  {
   "cell_type": "code",
   "execution_count": 52,
   "id": "fea01f88-1e2b-4aac-a7c1-9b8d69cf4b39",
   "metadata": {},
   "outputs": [
    {
     "name": "stdout",
     "output_type": "stream",
     "text": [
      "[0.707407951907322, 0.7070640664165013, 0.7071045879318414, 0.7073098081608831, 0.7078208150142717, 0.70791124311376, 0.7084675757361323, 0.7076756955749639, 0.7220198428400639, 0.8899053079303929, 0.8878559545192817, 0.8884426697855359, 1.0, 0.9928634854037234, 0.981108138735047, 0.8898427962104984, 0.719090877867772, 0.7192099688994038, 0.887490489893755, 0.8861488705854534, 0.7171319870488013, 0.7079195980258911, 0.7073358578310431, 0.7072896037719218, 0.7066076793061589, 0.7066579761313243, 0.7070921428122582, 0.7070842386707329]\n",
      "0.7180484914556399\n"
     ]
    }
   ],
   "source": [
    "print(mce)\n",
    "print(mce_gt_mask_no_edges)"
   ]
  },
  {
   "cell_type": "code",
   "execution_count": 53,
   "id": "2c8ee0d0-6ffe-4530-86ed-50bcb22ccf94",
   "metadata": {},
   "outputs": [
    {
     "name": "stdout",
     "output_type": "stream",
     "text": [
      "0.010651875958468294\n"
     ]
    }
   ],
   "source": [
    "print(np.var(mce))"
   ]
  },
  {
   "cell_type": "code",
   "execution_count": null,
   "id": "6c09359b-3652-4335-835a-c346b693a24f",
   "metadata": {},
   "outputs": [],
   "source": []
  },
  {
   "cell_type": "code",
   "execution_count": 48,
   "id": "af26330e-09d3-42fc-86bd-4c2af424a5d3",
   "metadata": {},
   "outputs": [],
   "source": [
    "# Code structure"
   ]
  },
  {
   "cell_type": "code",
   "execution_count": null,
   "id": "77d0505c-51d8-4c5d-8401-4353a7c7db61",
   "metadata": {},
   "outputs": [],
   "source": [
    "def pre_process_masks(mask1, mask2, scale):  # This is the function s in the paper\n",
    "    # Superimpose a grid over gt and prediction\n",
    "    return s1, s2"
   ]
  },
  {
   "cell_type": "code",
   "execution_count": null,
   "id": "a9f48342-2cbe-4502-af12-ca3094ae415e",
   "metadata": {},
   "outputs": [],
   "source": [
    "def pre_process_masks(mask1, mask2, scale):  # This is the function s in the paper\n",
    "    preprocessor1 = GridBasedSegmentation(mask1, scale)\n",
    "    s1 = preprocessor1.segmentize()\n",
    "    preprocessor2 = GridBasedSegmentation(mask2, scale)\n",
    "    s2 = preprocessor2.segmentize()\n",
    "\n",
    "    return s1, s2"
   ]
  },
  {
   "cell_type": "code",
   "execution_count": null,
   "id": "ec60aa00-f01b-4220-bf2b-b250ad45a24a",
   "metadata": {},
   "outputs": [],
   "source": [
    "def calculate_bce_with_logits(gt, prediction):\n",
    "    # calculate Cross Entropy in 1 resolution\n",
    "    return loss"
   ]
  },
  {
   "cell_type": "code",
   "execution_count": null,
   "id": "ed40d576-8ed7-4210-89c0-c8f51981edc1",
   "metadata": {},
   "outputs": [],
   "source": [
    "def calculate_bce_with_logits(gt, prediction, scale):\n",
    "    # return custom_bce_simplified(gt, prediction)\n",
    "    # print(prediction)\n",
    "    # print(gt)\n",
    "    loss = nn.BCEWithLogitsLoss()\n",
    "    l = loss(prediction, gt)\n",
    "    print(l)\n",
    "    print(\"-------------------------------------------------------------\")\n",
    "    return l"
   ]
  },
  {
   "cell_type": "code",
   "execution_count": null,
   "id": "0c487881-5172-4af8-81c4-6acb7ae1899b",
   "metadata": {},
   "outputs": [],
   "source": [
    "def calculate_area(distances, scales):\n",
    "    # Given the distances (y-coordinates) and scales (x-coordinates) \n",
    "    # calculate the area under this curve\n",
    "    # And normalize scales between [0.1] first\n",
    "    return area"
   ]
  },
  {
   "cell_type": "code",
   "execution_count": null,
   "id": "dddbfc1f-265e-4cd4-badc-6e2074fefc03",
   "metadata": {},
   "outputs": [],
   "source": [
    "def calculate_area(distances, scales):\n",
    "    # normalized_boxsizes = miou.normalize_boxsizes(scales)\n",
    "    # slope, _, _, _, _ = linregress(normalized_boxsizes, distances)\n",
    "    # aiou = np.abs(slope)\n",
    "    #\n",
    "    # area = miou.integral_trapezoidal(distances, dx=1 / (len(scales) - 1))\n",
    "    sd = np.std(scales)\n",
    "    mean = np.mean(scales)\n",
    "    normalized_scales = (scales-mean)/sd\n",
    "    area = simpson(distances, normalized_scales)\n",
    "    return area"
   ]
  },
  {
   "cell_type": "code",
   "execution_count": null,
   "id": "40505a17-f9a3-483c-9673-1a35cb4ee4c7",
   "metadata": {},
   "outputs": [],
   "source": [
    "def MCE(gt, img2, detect_edges = True):\n",
    "\n",
    "    if detect_edges:\n",
    "        # Apply filter to only work with edges of the masks\n",
    "        \n",
    "    for scale in scales:\n",
    "        # preprocess gt and prediction masks\n",
    "        s_gt, s_img2 = pre_process_masks(gt, img2, scale)\n",
    "        # calculate Cross Entropy (distance between gt and prediction)\n",
    "        distance = calculate_bce_with_logits(\n",
    "            torch.tensor(s_gt, dtype=torch.float),\n",
    "            torch.tensor(s_img2, dtype=torch.float),\n",
    "            scale)\n",
    "        distances.append(distance)\n",
    "\n",
    "    # normalize scales and calculate the area under the curve\n",
    "    mce = calculate_area(distances, scales)\n",
    "    return mce\n",
    "\n"
   ]
  },
  {
   "cell_type": "code",
   "execution_count": null,
   "id": "7c0ae6df-3100-416d-aa3b-eb8b7fe068d5",
   "metadata": {},
   "outputs": [],
   "source": []
  }
 ],
 "metadata": {
  "kernelspec": {
   "display_name": "Python 3 (ipykernel)",
   "language": "python",
   "name": "python3"
  },
  "language_info": {
   "codemirror_mode": {
    "name": "ipython",
    "version": 3
   },
   "file_extension": ".py",
   "mimetype": "text/x-python",
   "name": "python",
   "nbconvert_exporter": "python",
   "pygments_lexer": "ipython3",
   "version": "3.12.3"
  }
 },
 "nbformat": 4,
 "nbformat_minor": 5
}
