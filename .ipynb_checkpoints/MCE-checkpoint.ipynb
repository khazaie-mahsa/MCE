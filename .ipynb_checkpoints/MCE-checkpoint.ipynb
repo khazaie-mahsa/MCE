{
 "cells": [
  {
   "cell_type": "code",
   "execution_count": 11,
   "id": "86c4d480-2153-4cc4-9985-5fd3baca8449",
   "metadata": {},
   "outputs": [],
   "source": [
    "import numpy as np\n",
    "import scipy.integrate\n",
    "import torch.nn as nn\n",
    "import torch\n",
    "from sklearn.preprocessing import MinMaxScaler\n",
    "import copy\n",
    "\n",
    "from miou.metrics import miou\n",
    "from miou.metrics.iou import IoU\n",
    "from miou.utils.mask_loader import load_mask\n",
    "from miou.utils.segmentation import GridBasedSegmentation\n",
    "from scipy.stats import linregress\n",
    "from miou.edge_detection import sobel\n",
    "from scipy.integrate import trapezoid, simpson\n",
    "import matplotlib.pyplot as plt \n"
   ]
  },
  {
   "cell_type": "code",
   "execution_count": 12,
   "id": "b54a3e55-d50e-42c5-8929-69a6bbef758f",
   "metadata": {
    "editable": true,
    "slideshow": {
     "slide_type": ""
    },
    "tags": []
   },
   "outputs": [],
   "source": [
    "def pre_process_masks(mask1, mask2, scale):  # This is the function s in the paper\n",
    "    preprocessor1 = GridBasedSegmentation(mask1, scale)\n",
    "    s1 = preprocessor1.segmentize()\n",
    "    preprocessor2 = GridBasedSegmentation(mask2, scale)\n",
    "    s2 = preprocessor2.segmentize()\n",
    "\n",
    "    return s1, s2"
   ]
  },
  {
   "cell_type": "code",
   "execution_count": 13,
   "id": "35b07450-7163-4e1b-a6ec-c5784f62b884",
   "metadata": {},
   "outputs": [],
   "source": [
    "def calculate_bce_with_logits(gt, prediction, scale):\n",
    "    loss = nn.BCEWithLogitsLoss()\n",
    "    l = loss(prediction, gt)\n",
    "    return l"
   ]
  },
  {
   "cell_type": "code",
   "execution_count": 14,
   "id": "247a5547-e714-4979-9eb2-acced369f812",
   "metadata": {},
   "outputs": [],
   "source": [
    "def calculate_bce(gt, prediction, scale):\n",
    "    # print(prediction)\n",
    "    # print(gt)\n",
    "    loss = nn.BCELoss()\n",
    "    l = loss(prediction, gt)\n",
    "    l = torch.sigmoid(l)\n",
    "    # print(l)\n",
    "    # print(\"-------------------------------------------------------------\")\n",
    "    return l"
   ]
  },
  {
   "cell_type": "code",
   "execution_count": 24,
   "id": "96859c43-af2a-4c18-8dff-6383ea5eff49",
   "metadata": {},
   "outputs": [],
   "source": [
    "def calculate_area(distances, scales):\n",
    "    # normalized_boxsizes = miou.normalize_boxsizes(scales)\n",
    "    # slope, _, _, _, _ = linregress(normalized_boxsizes, distances)\n",
    "    # aiou = np.abs(slope)\n",
    "    #\n",
    "    # area = miou.integral_trapezoidal(distances, dx=1 / (len(scales) - 1))\n",
    "    # sd = np.std(scales)\n",
    "    # mean = np.mean(scales)\n",
    "    # normalized_scales = (scales-mean)/sd\n",
    "    b = copy.deepcopy(scales).reshape((-1, 1))\n",
    "    normalized_scales = MinMaxScaler().fit_transform(b)\n",
    "    normalized_scales.flatten()\n",
    "    print(normalized_scales.shape())\n",
    "    print(distances.shape)\n",
    "    \n",
    "    area = simpson(distances, normalized_scales)\n",
    "    return area"
   ]
  },
  {
   "cell_type": "code",
   "execution_count": 16,
   "id": "959c4f8a-193f-4ca6-a27c-92b50ac5982b",
   "metadata": {},
   "outputs": [],
   "source": [
    "gt = load_mask(\"./test_images/test_segm_input_B/mask1.png\")\n",
    "img2 = load_mask(\"./test_images/test_segm_input_B/mask2.png\")\n",
    "img3 = load_mask(\"./test_images/test_segm_input_B/mask3.png\")\n",
    "# img2 = load_mask(\"./test_images/test_segm_input_B/mask1.png\")\n",
    "masks = [gt, img2, img3]"
   ]
  },
  {
   "cell_type": "code",
   "execution_count": 17,
   "id": "45a18319-82eb-4af6-93e2-0328ca2a9ff4",
   "metadata": {},
   "outputs": [
    {
     "data": {
      "image/png": "[encoded data removed]",
      "text/plain": [
       "<Figure size 1500x4500 with 3 Axes>"
      ]
     },
     "metadata": {},
     "output_type": "display_data"
    }
   ],
   "source": [
    "fig = plt.figure(figsize=(15, len(masks) * 15))\n",
    "all_axes = []\n",
    "j = 0\n",
    "for i in range(len(masks)):\n",
    "    all_axes.append(fig.add_subplot(1,4,i+1))\n",
    "\n",
    "for ax in all_axes:\n",
    "    ax.axis('off')\n",
    "    title = 'Mask{}'.format(j+1) if j!=0 else 'Mask{}: Reference'.format(j+1)\n",
    "    ax.set_title(title)\n",
    "    ax.imshow(masks[j], cmap='gist_gray')\n",
    "    j = j + 1\n",
    "\n",
    "plt.show()"
   ]
  },
  {
   "cell_type": "code",
   "execution_count": 18,
   "id": "dc95e8b2-faa7-486a-962a-6d50cba31a85",
   "metadata": {},
   "outputs": [],
   "source": [
    "scales = np.power(2, np.linspace(0, 9, num=10, dtype=int))"
   ]
  },
  {
   "cell_type": "code",
   "execution_count": 25,
   "id": "ff6b5941-7246-46e7-86bd-3f4e4cffa690",
   "metadata": {},
   "outputs": [],
   "source": [
    "def MCE(gt, img2, detect_edges = True):\n",
    "\n",
    "    distances = []\n",
    "    box_counting_m1 = []\n",
    "    box_counting_m2 = []\n",
    "    box_counting_distance = []\n",
    "    \n",
    "    if detect_edges:\n",
    "        gt = sobel.get_edges(gt)\n",
    "        img2 = sobel.get_edges(img2)\n",
    "        \n",
    "    for scale in scales:\n",
    "        s_gt, s_img2 = pre_process_masks(gt, img2, scale)\n",
    "        box_counting_m1.append(np.sum(s_gt) + 1)\n",
    "        box_counting_m2.append(np.sum(s_img2) + 1)\n",
    "        # distance = calculate_ce(torch.from_numpy(s_gt.astype(float)), torch.from_numpy(s_img2.astype(float)), scale)\n",
    "        # distance = calculate_ce(\n",
    "        #     torch.tensor(box_counting_m1[-1], dtype=torch.float),\n",
    "        #     torch.tensor(box_counting_m2[-1], dtype=torch.float),\n",
    "        #     scale)\n",
    "        distance = calculate_bce_with_logits(\n",
    "            torch.tensor(s_gt, dtype=torch.float),\n",
    "            torch.tensor(s_img2, dtype=torch.float),\n",
    "            scale)\n",
    "        # distance = calculate_bce(\n",
    "        #     torch.tensor(s_gt, dtype=torch.float),\n",
    "        #     torch.tensor(s_img2, dtype=torch.float),\n",
    "        #     scale)\n",
    "        box_counting_distance.append(torch.sum(distance))\n",
    "        # print(f\"box_counting_1: {box_counting_m1}\")\n",
    "        # print(f\"box_counting_2: {box_counting_m2}\")\n",
    "        distances.append(distance)\n",
    "\n",
    "    mce = calculate_area(distances, scales)\n",
    "    print(f\"distances: {distances}\")\n",
    "    print(f\"mce: {mce}\")\n",
    "    return mce\n",
    "\n"
   ]
  },
  {
   "cell_type": "code",
   "execution_count": 26,
   "id": "72da49d0-c73e-40e0-9706-73b5f8041fa3",
   "metadata": {},
   "outputs": [
    {
     "ename": "TypeError",
     "evalue": "'tuple' object is not callable",
     "output_type": "error",
     "traceback": [
      "\u001b[0;31m---------------------------------------------------------------------------\u001b[0m",
      "\u001b[0;31mTypeError\u001b[0m                                 Traceback (most recent call last)",
      "Cell \u001b[0;32mIn[26], line 1\u001b[0m\n\u001b[0;32m----> 1\u001b[0m mce_gt_img2 \u001b[38;5;241m=\u001b[39m MCE(gt, img2)\n",
      "Cell \u001b[0;32mIn[25], line 34\u001b[0m, in \u001b[0;36mMCE\u001b[0;34m(gt, img2, detect_edges)\u001b[0m\n\u001b[1;32m     30\u001b[0m     \u001b[38;5;66;03m# print(f\"box_counting_1: {box_counting_m1}\")\u001b[39;00m\n\u001b[1;32m     31\u001b[0m     \u001b[38;5;66;03m# print(f\"box_counting_2: {box_counting_m2}\")\u001b[39;00m\n\u001b[1;32m     32\u001b[0m     distances\u001b[38;5;241m.\u001b[39mappend(distance)\n\u001b[0;32m---> 34\u001b[0m mce \u001b[38;5;241m=\u001b[39m calculate_area(distances, scales)\n\u001b[1;32m     35\u001b[0m \u001b[38;5;28mprint\u001b[39m(\u001b[38;5;124mf\u001b[39m\u001b[38;5;124m\"\u001b[39m\u001b[38;5;124mdistances: \u001b[39m\u001b[38;5;132;01m{\u001b[39;00mdistances\u001b[38;5;132;01m}\u001b[39;00m\u001b[38;5;124m\"\u001b[39m)\n\u001b[1;32m     36\u001b[0m \u001b[38;5;28mprint\u001b[39m(\u001b[38;5;124mf\u001b[39m\u001b[38;5;124m\"\u001b[39m\u001b[38;5;124mmce: \u001b[39m\u001b[38;5;132;01m{\u001b[39;00mmce\u001b[38;5;132;01m}\u001b[39;00m\u001b[38;5;124m\"\u001b[39m)\n",
      "Cell \u001b[0;32mIn[24], line 13\u001b[0m, in \u001b[0;36mcalculate_area\u001b[0;34m(distances, scales)\u001b[0m\n\u001b[1;32m     11\u001b[0m normalized_scales \u001b[38;5;241m=\u001b[39m MinMaxScaler()\u001b[38;5;241m.\u001b[39mfit_transform(b)\n\u001b[1;32m     12\u001b[0m normalized_scales\u001b[38;5;241m.\u001b[39mflatten()\n\u001b[0;32m---> 13\u001b[0m \u001b[38;5;28mprint\u001b[39m(normalized_scales\u001b[38;5;241m.\u001b[39mshape())\n\u001b[1;32m     14\u001b[0m \u001b[38;5;28mprint\u001b[39m(distances\u001b[38;5;241m.\u001b[39mshape)\n\u001b[1;32m     16\u001b[0m area \u001b[38;5;241m=\u001b[39m simpson(distances, normalized_scales)\n",
      "\u001b[0;31mTypeError\u001b[0m: 'tuple' object is not callable"
     ]
    }
   ],
   "source": [
    "mce_gt_img2 = MCE(gt, img2)"
   ]
  },
  {
   "cell_type": "code",
   "execution_count": null,
   "id": "e43f9315-9586-4def-9127-ca6acb867771",
   "metadata": {},
   "outputs": [],
   "source": [
    "mce_gt_img3 = MCE(gt, img3)"
   ]
  },
  {
   "cell_type": "code",
   "execution_count": null,
   "id": "6dd0e7d1-377d-4770-ae15-644bef4d50b6",
   "metadata": {},
   "outputs": [],
   "source": [
    "mce_gt_img2"
   ]
  },
  {
   "cell_type": "code",
   "execution_count": null,
   "id": "f4fe5863-99da-4533-9488-842f45346d46",
   "metadata": {},
   "outputs": [],
   "source": [
    "mce_gt_img3"
   ]
  },
  {
   "cell_type": "code",
   "execution_count": null,
   "id": "3c61d051-3d2f-4718-94f3-d44305633f57",
   "metadata": {},
   "outputs": [],
   "source": [
    "mce_gt_img2_no_edge = MCE(gt, img2, detect_edges = False)"
   ]
  },
  {
   "cell_type": "code",
   "execution_count": null,
   "id": "673b0eab-1a97-4994-bd0d-96eb2eabebb1",
   "metadata": {},
   "outputs": [],
   "source": [
    "mce_gt_img3_no_edge = MCE(gt, img3, detect_edges = False)"
   ]
  },
  {
   "cell_type": "code",
   "execution_count": null,
   "id": "e8125c97-c523-4843-a449-b2b2c4d221cb",
   "metadata": {},
   "outputs": [],
   "source": [
    "print(mce_gt_img2_no_edge)\n",
    "print(mce_gt_img2)"
   ]
  },
  {
   "cell_type": "code",
   "execution_count": null,
   "id": "d9cd0d40-487e-4ece-81a2-4601a93f7306",
   "metadata": {},
   "outputs": [],
   "source": [
    "print(mce_gt_img3_no_edge)\n",
    "print(mce_gt_img3)"
   ]
  },
  {
   "cell_type": "code",
   "execution_count": null,
   "id": "482f7e45-7889-40fb-b048-d81a306ef600",
   "metadata": {},
   "outputs": [],
   "source": [
    "mce_gt_gt = MCE(gt, gt, detect_edges = False)"
   ]
  },
  {
   "cell_type": "code",
   "execution_count": null,
   "id": "ad3e49a3-e215-41d6-9b31-84b2016bc8b0",
   "metadata": {},
   "outputs": [],
   "source": [
    "# Example2: Solar filament"
   ]
  },
  {
   "cell_type": "code",
   "execution_count": null,
   "id": "1bac9154-b097-4d34-ac6e-f8a7b2f29450",
   "metadata": {},
   "outputs": [],
   "source": [
    "mask1 = load_mask('./test_images/test_segm_input_Z2/mask1.png')\n",
    "mask2 = load_mask('./test_images/test_segm_input_Z2/mask2.png')\n",
    "mask3 = load_mask('./test_images/test_segm_input_Z2/mask3.png')\n",
    "masks = [mask1, mask2, mask3]"
   ]
  },
  {
   "cell_type": "code",
   "execution_count": null,
   "id": "5f29edfb-ad43-466d-b394-bdfc6d0d975c",
   "metadata": {},
   "outputs": [],
   "source": [
    "fig = plt.figure(figsize=(15, len(masks) * 15))\n",
    "all_axes = []\n",
    "j = 0\n",
    "for i in range(len(masks)):\n",
    "    all_axes.append(fig.add_subplot(1,4,i+1))\n",
    "\n",
    "for ax in all_axes:\n",
    "    ax.axis('off')\n",
    "    title = 'Mask{}'.format(j+1) if j!=0 else 'Mask{}: Reference'.format(j+1)\n",
    "    ax.set_title(title)\n",
    "    ax.imshow(masks[j], cmap='gist_gray')\n",
    "    j = j + 1\n",
    "\n",
    "plt.show()"
   ]
  },
  {
   "cell_type": "code",
   "execution_count": null,
   "id": "8199e522-5185-4f87-9313-067b7e9ea359",
   "metadata": {},
   "outputs": [],
   "source": [
    "mce_f1_f2 = MCE(mask1, mask2)"
   ]
  },
  {
   "cell_type": "code",
   "execution_count": null,
   "id": "ab7edc00-e363-48a9-b722-3d359879d2e7",
   "metadata": {},
   "outputs": [],
   "source": [
    "mce_f1_f2_no_edge = MCE(mask1, mask2, detect_edges=False)"
   ]
  },
  {
   "cell_type": "code",
   "execution_count": null,
   "id": "6c1f886c-eea9-43de-bd41-a47f4b9eb1ed",
   "metadata": {},
   "outputs": [],
   "source": [
    "mce_f1_f3 = MCE(mask1, mask3)"
   ]
  },
  {
   "cell_type": "code",
   "execution_count": null,
   "id": "a5654adc-72ff-4845-a713-e2be6f48e1f4",
   "metadata": {},
   "outputs": [],
   "source": [
    "mce_f1_f3_no_edge = MCE(mask1, mask3, detect_edges=False)"
   ]
  },
  {
   "cell_type": "code",
   "execution_count": null,
   "id": "a483649e-22c4-4aa8-a277-08d70de660dd",
   "metadata": {},
   "outputs": [],
   "source": [
    "mce_f1_f1 = MCE(mask1, mask1)"
   ]
  },
  {
   "cell_type": "code",
   "execution_count": null,
   "id": "268670c8-25e8-404f-877d-69b88cea6f51",
   "metadata": {},
   "outputs": [],
   "source": [
    "mce_f1_f1_no_edge = MCE(mask1, mask1, detect_edges=False)"
   ]
  },
  {
   "cell_type": "code",
   "execution_count": null,
   "id": "f925e51f-0356-4b67-b9d5-43a773df6fdb",
   "metadata": {},
   "outputs": [],
   "source": [
    "miou_obj = miou.MIoU(scales, edge_only=True)\n",
    "miou_obj_no_edge = miou.MIoU(scales, edge_only=False)"
   ]
  },
  {
   "cell_type": "code",
   "execution_count": null,
   "id": "122020d5-4c4c-4ec9-acde-d577af478089",
   "metadata": {},
   "outputs": [],
   "source": [
    "print('-----------------------resuts-----------------------')\n",
    "print('=========example1: gt, img2===============')\n",
    "print(f'mce: {mce_gt_img2}')\n",
    "print(f'mce without edge detection: {mce_gt_img2_no_edge}')\n",
    "print(f'MioU:{miou_obj.measure(gt, img2)}')\n",
    "print(f'MioU without edge detection:{miou_obj_no_edge.measure(gt, img2)}')\n",
    "print('=========example1: gt, img3===============')\n",
    "print(f'mce: {mce_gt_img3}')\n",
    "print(f'mce without edge detection: {mce_gt_img3_no_edge}')\n",
    "print(f'MioU:{miou_obj.measure(gt, img3)}')\n",
    "print(f'MioU without edge detection:{miou_obj_no_edge.measure(gt, img3)}')\n",
    "print('=========example2: mask1, mask1===============')\n",
    "print(f'mce: {mce_f1_f1}')\n",
    "print(f'mce without edge detection: {mce_f1_f1_no_edge}')\n",
    "print(f'MioU:{miou_obj.measure(mask1, mask1)}')\n",
    "print(f'MioU without edge detection:{miou_obj_no_edge.measure(mask1, mask1)}')\n",
    "print('=========example2: mask1, mask2===============')\n",
    "print(f'mce: {mce_f1_f2}')\n",
    "print(f'mce without edge detection: {mce_f1_f2_no_edge}')\n",
    "print(f'MioU:{miou_obj.measure(mask1, mask2)}')\n",
    "print(f'MioU without edge detection:{miou_obj_no_edge.measure(mask1, mask2)}')\n",
    "print('=========example2: mask1, mask3===============')\n",
    "print(f'mce: {mce_f1_f3}')\n",
    "print(f'mce without edge detection: {mce_f1_f3_no_edge}')\n",
    "print(f'MioU:{miou_obj.measure(mask1, mask3)}')\n",
    "print(f'MioU without edge detection:{miou_obj_no_edge.measure(mask1, mask3)}')"
   ]
  },
  {
   "cell_type": "code",
   "execution_count": null,
   "id": "3910db2e-5cec-4f57-bd89-46bcdaf16818",
   "metadata": {},
   "outputs": [],
   "source": [
    "# Example3: Leaf Example"
   ]
  },
  {
   "cell_type": "code",
   "execution_count": null,
   "id": "a6ba1d53-6e3b-4d86-8f8c-390ddb104cb6",
   "metadata": {},
   "outputs": [],
   "source": [
    "mask1 = load_mask('./test_images/test_segm_input_Z3/mask1.png')\n",
    "mask2 = load_mask('./test_images/test_segm_input_Z3/mask2.png')\n",
    "mask3 = load_mask('./test_images/test_segm_input_Z3/mask3.png')\n",
    "masks = [mask1, mask2, mask3]"
   ]
  },
  {
   "cell_type": "code",
   "execution_count": null,
   "id": "6d2a000e-1e31-4379-b451-5bfddd3f26a9",
   "metadata": {},
   "outputs": [],
   "source": [
    "fig = plt.figure(figsize=(15, len(masks) * 15))\n",
    "all_axes = []\n",
    "j = 0\n",
    "for i in range(len(masks)):\n",
    "    all_axes.append(fig.add_subplot(1,4,i+1))\n",
    "\n",
    "for ax in all_axes:\n",
    "    ax.axis('off')\n",
    "    title = 'Mask{}'.format(j+1) if j!=0 else 'Mask{}: Reference'.format(j+1)\n",
    "    ax.set_title(title)\n",
    "    ax.imshow(masks[j], cmap='gist_gray')\n",
    "    j = j + 1\n",
    "\n",
    "plt.show()"
   ]
  },
  {
   "cell_type": "code",
   "execution_count": null,
   "id": "f04a1c5a-9b2d-4785-a5ea-5462e403e8cf",
   "metadata": {},
   "outputs": [],
   "source": [
    "mce_L1_L1 = MCE(mask1, mask1)"
   ]
  },
  {
   "cell_type": "code",
   "execution_count": null,
   "id": "e39f0b0e-f1d6-4ee2-935e-98acec1df59c",
   "metadata": {},
   "outputs": [],
   "source": [
    "mce_L1_L1_no_edge = MCE(mask1, mask1, detect_edges=False)"
   ]
  },
  {
   "cell_type": "code",
   "execution_count": null,
   "id": "dd849912-0077-485d-8a9a-e30334fbf8ae",
   "metadata": {},
   "outputs": [],
   "source": [
    "mce_L1_L2 = MCE(mask1, mask2)"
   ]
  },
  {
   "cell_type": "code",
   "execution_count": null,
   "id": "cf61bef1-b135-400e-8bd9-a497f97b28e4",
   "metadata": {},
   "outputs": [],
   "source": [
    "mce_L1_L2_no_edge = MCE(mask1, mask2, detect_edges=False)"
   ]
  },
  {
   "cell_type": "code",
   "execution_count": null,
   "id": "cff9efcb-21ad-4234-834b-7c0f44b0f412",
   "metadata": {},
   "outputs": [],
   "source": [
    "mce_L1_L3 = MCE(mask1, mask3)"
   ]
  },
  {
   "cell_type": "code",
   "execution_count": null,
   "id": "708897d8-f6fe-4a8a-bd91-ea422cb25a2d",
   "metadata": {},
   "outputs": [],
   "source": [
    "mce_L1_L3_no_edge = MCE(mask1, mask3, detect_edges=False)"
   ]
  },
  {
   "cell_type": "code",
   "execution_count": null,
   "id": "e138c8f3-1dc4-4e2b-a2a4-7adaa4750a98",
   "metadata": {},
   "outputs": [],
   "source": [
    "print('-----------------------resuts-----------------------')\n",
    "print('=========example3: gt, gt===============')\n",
    "print(f'mce: {mce_L1_L1}')\n",
    "print(f'mce without edge detection: {mce_L1_L1_no_edge}')\n",
    "print(f'MioU:{miou_obj.measure(mask1, mask1)}')\n",
    "print(f'MioU without edge detection:{miou_obj_no_edge.measure(mask1, mask1)}')\n",
    "print('=========example3: gt, mask2===============')\n",
    "print(f'mce: {mce_L1_L2}')\n",
    "print(f'mce without edge detection: {mce_L1_L2_no_edge}')\n",
    "print(f'MioU:{miou_obj.measure(mask1, mask2)}')\n",
    "print(f'MioU without edge detection:{miou_obj_no_edge.measure(mask1, mask2)}')\n",
    "print('=========example2: mask1, mask3===============')\n",
    "print(f'mce: {mce_L1_L3}')\n",
    "print(f'mce without edge detection: {mce_L1_L3_no_edge}')\n",
    "print(f'MioU:{miou_obj.measure(mask1, mask3)}')\n",
    "print(f'MioU without edge detection:{miou_obj_no_edge.measure(mask1, mask3)}')"
   ]
  },
  {
   "cell_type": "code",
   "execution_count": null,
   "id": "b204585a-b336-440e-9fae-70afc5b1dec8",
   "metadata": {},
   "outputs": [],
   "source": [
    "# Example4: Synthetic Regions"
   ]
  },
  {
   "cell_type": "code",
   "execution_count": null,
   "id": "42701292-382e-49b1-aad9-94f932a04212",
   "metadata": {},
   "outputs": [],
   "source": [
    "import os\n",
    "path = './test_images/test_segm_input_F/'\n",
    "\n",
    "all_paths = [os.path.join(path, f) for f in os.listdir(path) if f.startswith('mask')]\n",
    "all_paths.sort(key=lambda f: int(''.join(filter(str.isdigit, f))))\n",
    "\n",
    "all_masks = []\n",
    "for p in all_paths:\n",
    "    all_masks.append(load_mask(p))"
   ]
  },
  {
   "cell_type": "code",
   "execution_count": null,
   "id": "6807a711-5f88-4b2f-82ee-bf5fa636e088",
   "metadata": {},
   "outputs": [],
   "source": [
    "n_rows, n_cols = 7, 4\n",
    "fig = plt.figure(figsize=(10, 16))\n",
    "all_axes = []\n",
    "j = 0\n",
    "for i in range(len(all_paths)):\n",
    "    all_axes.append(fig.add_subplot(n_rows, n_cols, i+1))\n",
    "\n",
    "labels = []\n",
    "for ax in all_axes:\n",
    "    ax.axis('off')\n",
    "    title = '{}-{}'.format(all_paths[j][-7], all_paths[j][-5])\n",
    "    labels.append(title)\n",
    "    ax.set_title(title, fontsize= 12)\n",
    "    ax.imshow(all_masks[j], cmap='gist_gray')\n",
    "    j = j + 1\n",
    "\n",
    "plt.show()"
   ]
  },
  {
   "cell_type": "code",
   "execution_count": null,
   "id": "eaa9f33b-f6ed-4e9b-a0c3-8c7f9b76e0c2",
   "metadata": {},
   "outputs": [],
   "source": [
    "ref_idx = 12   # index of reference object (i.e. ground truth)\n",
    "gt = all_masks[ref_idx]"
   ]
  },
  {
   "cell_type": "code",
   "execution_count": null,
   "id": "28791d47-bd0c-40ad-ab36-820047f2fec1",
   "metadata": {},
   "outputs": [],
   "source": [
    "mce = []\n",
    "mce_no_edge = []\n",
    "ious = []\n",
    "miou = []\n",
    "iou = IoU()\n",
    "for i, mask in enumerate(all_masks):\n",
    "    mce_gt_mask = MCE(gt, mask)\n",
    "    mce.append(mce_gt_mask)\n",
    "    mce_gt_mask_no_edges = MCE(gt, mask, detect_edges=False)\n",
    "    mce_no_edge.append(mce_gt_mask_no_edges)\n",
    "    print(f'index: {i}')\n",
    "    print(f'mce_gt_mask: {mce_gt_mask}')\n",
    "    # print(f'mce_gt_mask: {mce_gt_mask_no_edges}')\n",
    "    print('------------------------')\n",
    "    ious.append(iou.measure(gt, mask))\n",
    "    miou.append(miou_obj.measure(gt, mask))\n",
    "measures_list=[ious, miou, mce]"
   ]
  },
  {
   "cell_type": "code",
   "execution_count": null,
   "id": "b6432b78-65e8-49f3-a908-86555389ff41",
   "metadata": {},
   "outputs": [],
   "source": [
    "x = np.arange(0, len(all_masks), dtype=int)\n",
    "areas_c = list(1 - np.array(miou))\n",
    "areas_c = miou\n",
    "plots = []\n",
    "colors = ['green', 'slateblue', 'crimson', 'slateblue', 'crimson']\n",
    "legend_labels = ['IoU', 'MIoU','MCE']\n",
    "labels = ['{}-{}'.format(i,j) for i in range(1, n_rows+1) for j in range(1,n_cols+1)]\n",
    "markers = ['+', 'o', 'x', '1', 's']\n",
    "linestyles = ['solid', 'dotted', 'dotted', 'solid', 'solid']\n",
    "\n",
    "ymin = -0.1\n",
    "ymax = max([max(measures) for measures in measures_list])\n",
    "\n",
    "fig, ax = plt.subplots(figsize=(15, 4))\n",
    "for i, measures in enumerate(measures_list):\n",
    "    plots.append(plt.plot(x, measures,\n",
    "                          color=colors[i], linestyle=linestyles[i], linewidth=1.5,\n",
    "                          marker=markers[i], markersize=8,  label=legend_labels[i]))    \n",
    "\n",
    "ax.set_xticks(x)\n",
    "ax.set_xticklabels(labels, rotation=45, fontsize=14)\n",
    "ax.yaxis.set_tick_params(labelsize=14)\n",
    "plt.grid(axis='y', which='both', color='lightgray', linestyle='--', linewidth=1)\n",
    "plt.ylim(ymin, ymax + 0.1)\n",
    "plt.vlines(ref_idx, ymin=ymin, ymax=ymax + 0.1, colors='orange', linestyles='--', label='GT')\n",
    "plt.vlines(x[::4]-0.5, ymin=ymin, ymax=ymax, colors='gray', linestyles='solid', lw=0.4)\n",
    "plt.hlines(y=0.0, xmin=-0.5, xmax=len(all_masks), colors='gray', linestyles=':', lw=0.4)\n",
    "plt.hlines(y=1.0, xmin=-0.5, xmax=len(all_masks), colors='gray', linestyles=':', lw=0.4)\n",
    "plt.title(\"Comparison of Metrics's Sensitivity\", fontsize=18)\n",
    "plt.xlabel('Comparison Pair', fontsize=16)\n",
    "plt.ylabel('Score', fontsize=16)\n",
    "\n",
    "\n",
    "for i in np.arange(len(all_masks)):\n",
    "    ax.annotate(np.round(areas_c[i], 2), (x[i]-0.2, areas_c[i] - 0.15), color='gray', rotation=45)\n",
    "\n",
    "plt.legend(legend_labels, fontsize=12)\n",
    "plt.show()"
   ]
  },
  {
   "cell_type": "code",
   "execution_count": null,
   "id": "fea01f88-1e2b-4aac-a7c1-9b8d69cf4b39",
   "metadata": {},
   "outputs": [],
   "source": [
    "print(mce)\n",
    "print(mce_gt_mask_no_edges)"
   ]
  },
  {
   "cell_type": "code",
   "execution_count": null,
   "id": "2c8ee0d0-6ffe-4530-86ed-50bcb22ccf94",
   "metadata": {},
   "outputs": [],
   "source": [
    "print(np.var(mce))"
   ]
  },
  {
   "cell_type": "code",
   "execution_count": null,
   "id": "6c09359b-3652-4335-835a-c346b693a24f",
   "metadata": {},
   "outputs": [],
   "source": []
  },
  {
   "cell_type": "code",
   "execution_count": null,
   "id": "af26330e-09d3-42fc-86bd-4c2af424a5d3",
   "metadata": {},
   "outputs": [],
   "source": [
    "# Code structure"
   ]
  },
  {
   "cell_type": "code",
   "execution_count": null,
   "id": "77d0505c-51d8-4c5d-8401-4353a7c7db61",
   "metadata": {},
   "outputs": [],
   "source": [
    "def pre_process_masks(mask1, mask2, scale):  # This is the function s in the paper\n",
    "    # Superimpose a grid over gt and prediction\n",
    "    return s1, s2"
   ]
  },
  {
   "cell_type": "code",
   "execution_count": null,
   "id": "a9f48342-2cbe-4502-af12-ca3094ae415e",
   "metadata": {},
   "outputs": [],
   "source": [
    "def pre_process_masks(mask1, mask2, scale):  # This is the function s in the paper\n",
    "    preprocessor1 = GridBasedSegmentation(mask1, scale)\n",
    "    s1 = preprocessor1.segmentize()\n",
    "    preprocessor2 = GridBasedSegmentation(mask2, scale)\n",
    "    s2 = preprocessor2.segmentize()\n",
    "\n",
    "    return s1, s2"
   ]
  },
  {
   "cell_type": "code",
   "execution_count": null,
   "id": "ec60aa00-f01b-4220-bf2b-b250ad45a24a",
   "metadata": {},
   "outputs": [],
   "source": [
    "def calculate_bce_with_logits(gt, prediction):\n",
    "    # calculate Cross Entropy in 1 resolution\n",
    "    return loss"
   ]
  },
  {
   "cell_type": "code",
   "execution_count": null,
   "id": "ed40d576-8ed7-4210-89c0-c8f51981edc1",
   "metadata": {},
   "outputs": [],
   "source": [
    "def calculate_bce_with_logits(gt, prediction, scale):\n",
    "    # return custom_bce_simplified(gt, prediction)\n",
    "    # print(prediction)\n",
    "    # print(gt)\n",
    "    loss = nn.BCEWithLogitsLoss()\n",
    "    l = loss(prediction, gt)\n",
    "    print(l)\n",
    "    print(\"-------------------------------------------------------------\")\n",
    "    return l"
   ]
  },
  {
   "cell_type": "code",
   "execution_count": null,
   "id": "0c487881-5172-4af8-81c4-6acb7ae1899b",
   "metadata": {},
   "outputs": [],
   "source": [
    "def calculate_area(distances, scales):\n",
    "    # Given the distances (y-coordinates) and scales (x-coordinates) \n",
    "    # calculate the area under this curve\n",
    "    # And normalize scales between [0.1] first\n",
    "    return area"
   ]
  },
  {
   "cell_type": "code",
   "execution_count": null,
   "id": "dddbfc1f-265e-4cd4-badc-6e2074fefc03",
   "metadata": {},
   "outputs": [],
   "source": [
    "def calculate_area(distances, scales):\n",
    "    # normalized_boxsizes = miou.normalize_boxsizes(scales)\n",
    "    # slope, _, _, _, _ = linregress(normalized_boxsizes, distances)\n",
    "    # aiou = np.abs(slope)\n",
    "    #\n",
    "    # area = miou.integral_trapezoidal(distances, dx=1 / (len(scales) - 1))\n",
    "    sd = np.std(scales)\n",
    "    mean = np.mean(scales)\n",
    "    normalized_scales = (scales-mean)/sd\n",
    "    area = simpson(distances, normalized_scales)\n",
    "    return area"
   ]
  },
  {
   "cell_type": "code",
   "execution_count": null,
   "id": "40505a17-f9a3-483c-9673-1a35cb4ee4c7",
   "metadata": {},
   "outputs": [],
   "source": [
    "def MCE(gt, img2, detect_edges = True):\n",
    "\n",
    "    if detect_edges:\n",
    "        # Apply filter to only work with edges of the masks\n",
    "        \n",
    "    for scale in scales:\n",
    "        # preprocess gt and prediction masks\n",
    "        s_gt, s_img2 = pre_process_masks(gt, img2, scale)\n",
    "        # calculate Cross Entropy (distance between gt and prediction)\n",
    "        distance = calculate_bce_with_logits(\n",
    "            torch.tensor(s_gt, dtype=torch.float),\n",
    "            torch.tensor(s_img2, dtype=torch.float),\n",
    "            scale)\n",
    "        distances.append(distance)\n",
    "\n",
    "    # normalize scales and calculate the area under the curve\n",
    "    mce = calculate_area(distances, scales)\n",
    "    return mce\n",
    "\n"
   ]
  }
 ],
 "metadata": {
  "kernelspec": {
   "display_name": "Python 3 (ipykernel)",
   "language": "python",
   "name": "python3"
  },
  "language_info": {
   "codemirror_mode": {
    "name": "ipython",
    "version": 3
   },
   "file_extension": ".py",
   "mimetype": "text/x-python",
   "name": "python",
   "nbconvert_exporter": "python",
   "pygments_lexer": "ipython3",
   "version": "3.12.3"
  }
 },
 "nbformat": 4,
 "nbformat_minor": 5
}
